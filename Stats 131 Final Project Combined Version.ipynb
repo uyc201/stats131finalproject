{
 "cells": [
  {
   "cell_type": "markdown",
   "metadata": {},
   "source": [
    "# Group 18: Anaconda Don't #\n",
    "\n",
    "## Kirsten Landsiedel, Natasha Vuong, Stephen Chen, Un Young Chung ##"
   ]
  },
  {
   "cell_type": "markdown",
   "metadata": {},
   "source": [
    "## Written Report ##\n",
    "\n",
    "### <span style=\"color:darkblue\">Background Information</span> ###\n",
    "\n",
    "The World Happiness Report is an annual survey of global happiness that has been conducted every year since 2005. That data provides insight into variables aimed at measuring social norms, conflicts, government policies, and welfare in over 130 countries around the world surveyed. The World Happiness Report aggregates data from the Gallup World Poll, The World Bank, and The World Health Organization. The Gallup Poll samples 1,000 people from each of the countries each year and asks them a series of questions in order to provide insights into key indicators such as law and order, food/shelter, working conditions, economics, health, well-being, education, and political freedom in order to demonstrate “their correlations with world development indicators such as GDP.”\n",
    "    \n",
    "People are selected to answer Gallup World Poll questions through the use of assisted random-digit-dial (RDD) telephone samples using a proportionate, stratified sampling design. In cases where this is impossible to achieve due to a lack of infrastructure or accessibility, random homes are selected for in-person interviews using similar techniques. The World Gallup Poll claims that it represents 95% of the world’s adult population.\n",
    "\n",
    "The World Happiness Report began to release data surrounding the topic of happiness in 2012, in support of the United Nation’s high level meeting on “Wellbeing and Happiness: Defining a New Economic Paradigm”. The United Nations was looking to delve deeper into the science of happiness, and the World Happiness Report provided data that lead to the discovery of reliable correlations (as causation cannot be claimed due to limitations of the data) between people’s quality of life and a variety of subjective measures of well-being. The three relationships that are currently being explored by The World Happiness Report and its data analytics are:\n",
    "\n",
    "1. The link between government and happiness.\n",
    "2. The power of prosocial behavior.\n",
    "3. Changes in information technology.\n",
    "\n",
    "Although The World Happiness Report has provided great insights into many of the different facets of this data set, our work aimed to expand upon this groundwork and continue to ask new questions and explore new relationships among the data.\n",
    "\n",
    "### <span style=\"color:darkblue\">Description of Data</span> ###\n",
    "\n",
    "The variables used in our data set are measured and standardized according to the following set of explanations and guidelines. Additional explanations are provided for more technical economic indicators.\n",
    "\n",
    "Many of these explanations come from/are adapted from the index that describes the World Happiness data; most have been modified.\n",
    "\n",
    "- __Year__: The year in which the data was collected.\n",
    "\n",
    "\n",
    "- __Life Ladder__: This is the happiness measurement. The question asked is: “Please imagine a ladder, with steps numbered from 0 at the bottom to 10 at the top. The top of the ladder represents the best possible life for you and the bottom of the ladder represents the worst possible life for you. On which step of the ladder would you say you personally feel you stand at this time?”\n",
    "\n",
    "\n",
    "- __Log GDP per capita__: Measured in Purchasing Power Parity (PPP) at constant 2011 international dollar prices from the November 14, 2018 update of the World Development Indicators (WDI). This basically is a method of standardizing currencies such that comparison between countries is possible. After standardization, the natural logarithm is taken to make the values smaller.\n",
    "    + _Further explanation: GDP is a financial wellness indicator that essentially measures the productive capacity of a country’s economy. Although there are many reliable ways to calculate GDP, one popular method is the “expenditure approach” which sums up all final goods and services produced in an economy in a given year (or other period of time). A common formula for this calculation is GDP = C (consumption) + I (investment) + G (government spending) + NX (net exports). Although the formula is simple, the actual accounting is far from it._\n",
    "    + _Wikipedia:_ Purchasing power parity is a theory that measures prices at different locations using a common good or goods to contrast the real purchasing power between different currencies\n",
    "    \n",
    "    \n",
    "- __Social Support__: This variables provides a binary response to the question: “If you were in trouble, do you have relatives or friends you can count on to help you whenever you need them, or not?”. All 1,000 responses are then averaged and the country’s score for Social Support is thus calculated.\n",
    "\n",
    "\n",
    "- __Healthy Life Expectancy (HLE)__: Healthy life expectancies at birth are based on the data extracted from the World Health Organization’s (WHO) Global Health Observatory data repository. It represents the number of years of good/full health a newborn baby can expect, not hampered by disabilities, disabling illnesses, or injuries.\n",
    "\n",
    "\n",
    "- __Freedom to make life choices__: Binary response to: “Are you satisfied or dissatisfied with your freedom to choose what you do with your life?”. All 1,000 responses are then averaged and the country’s score for Freedom to make life choices is thus calculated.\n",
    "\n",
    "\n",
    "- __Generosity__: The residual of regressing national average of binary response to the question “Have you donated money to a charity in the past month?” on GDP per capita. This means that the measurement of generosity factors out the part of the variation in generosity that is explained by GDP per capita. The residual is then the part of the variation in generosity that is NOT due to GDP per capita ie it is making the comparisons of generosity in terms of financial means to give (ie those in Sub-Saharan Africa are not punished for not donating charity as much as those in Sweden). This allows us to view generosity in terms of people’s financial means.\n",
    "\n",
    "\n",
    "- __Perception of corruption__: The measure is the national average of the survey responses to two questions in the GWP: “Is corruption widespread throughout the government or not” and “Is corruption widespread within businesses or not?”. The overall perception score is just the average of the two 0-or-1 responses.\n",
    "\n",
    "\n",
    "- __Positive Affect__: These measures are the responses to the following three questions, respectively: “Did you experience the following feelings during A LOT OF THE DAY yesterday? How about Happiness?”, “Did you smile or laugh A LOT OF THE DAY yesterday?”, and “Did you experience the following feelings during A LOT OF THE DAY yesterday? How about Enjoyment?”. Averages are taken from these binary responses.\n",
    "\n",
    "\n",
    "- __Negative Affect__: The average of three negative affect measures in GWP. Average of binary responses to “Did you experience the following feelings during A LOT OF THE DAY yesterday? How about Worry?”, “Did you experience the following feelings during A LOT OF THE DAY yesterday? How about Sadness?”, and “Did you experience the following feelings during A LOT OF THE DAY yesterday? How about Anger?”\n",
    "\n",
    "\n",
    "- __Confidence in National Government__: Confidence in National Government: Binary response to: “Do you have confidence in your national government?”. All 1,000 responses are then averaged and the country’s score for Confidence in National Government is thus calculated.\n",
    "\n",
    "\n",
    "- __Democratic Quality__ and __Delivery Quality__: Democratic and delivery quality measures of governance are based on the Worldwide Governance Indicators (WGI) project (Kaufmann, Kraay and Mastruzzi) updated on 29-Sep-2017, covering the years up to 2016. The original data have six dimensions: Voice and Accountability, Political Stability and Absence of Violence, Government Effectiveness, Regulatory Quality, Rule of Law, and Control of Corruption. The indicators are on a scale roughly with mean of zero and a standard deviation of 1. We reduce the number of dimensions to two using the simple average of the first two measures as an indicator of democratic quality, and the simple average of the other four measures as an indicator of delivery quality, following Helliwell and Huang (2008).\n",
    "\n",
    "\n",
    "- __Region__: We added this variable from a separate data file. It classifies each country into its region of the world."
   ]
  },
  {
   "cell_type": "markdown",
   "metadata": {},
   "source": [
    "## Exploratory Data Analysis ##"
   ]
  },
  {
   "cell_type": "code",
   "execution_count": 1,
   "metadata": {},
   "outputs": [],
   "source": [
    "import pandas as pd\n",
    "import numpy as np\n",
    "import matplotlib.pyplot as plt\n",
    "from matplotlib.pyplot import figure\n",
    "import seaborn as sns\n",
    "from sklearn.linear_model import LinearRegression\n",
    "from sklearn.preprocessing import PolynomialFeatures\n",
    "from sklearn.metrics import mean_squared_error\n",
    "from sklearn.model_selection import train_test_split, cross_val_score\n",
    "import statsmodels.api as sm\n",
    "import statsmodels.formula.api as smf"
   ]
  },
  {
   "cell_type": "markdown",
   "metadata": {},
   "source": [
    "### <span style=\"color:darkblue\">Data Cleaning</span> ###"
   ]
  },
  {
   "cell_type": "code",
   "execution_count": 2,
   "metadata": {},
   "outputs": [
    {
     "name": "stderr",
     "output_type": "stream",
     "text": [
      "/Users/kirstenlandsiedel/anaconda3/lib/python3.7/site-packages/pandas/core/indexing.py:543: SettingWithCopyWarning: \n",
      "A value is trying to be set on a copy of a slice from a DataFrame.\n",
      "Try using .loc[row_indexer,col_indexer] = value instead\n",
      "\n",
      "See the caveats in the documentation: http://pandas.pydata.org/pandas-docs/stable/indexing.html#indexing-view-versus-copy\n",
      "  self.obj[item] = s\n"
     ]
    }
   ],
   "source": [
    "url = 'https://raw.githubusercontent.com/uyc201/stats131finalproject/master/Chapter2OnlineData.csv'\n",
    "happy = pd.read_csv(url)\n",
    "\n",
    "col_range = [0, 1, 2, 3, 4, 5, 6, 7, 8, 9, 10, 11, 12, 13]\n",
    "happy_clean = happy.iloc[:,col_range] # drop variables with lots of missing data\n",
    "happy_clean.iloc[:,1:] = happy_clean.iloc[:,1:].apply(pd.to_numeric)\n",
    "happy_fin = happy_clean.set_index('Country name')\n",
    "\n",
    "happy_2017 = happy_fin.loc[happy_fin.Year == 2017,:]"
   ]
  },
  {
   "cell_type": "markdown",
   "metadata": {},
   "source": [
    "Because the majority of our data analysis was on the data from countries in 2017, we cleaned data from 2017. A simple line of code yielded 19 countries that had missing data. From there, we determined how to handle the missing data on case-by-case basis."
   ]
  },
  {
   "cell_type": "code",
   "execution_count": 3,
   "metadata": {
    "scrolled": false
   },
   "outputs": [
    {
     "data": {
      "text/html": [
       "<div>\n",
       "<style scoped>\n",
       "    .dataframe tbody tr th:only-of-type {\n",
       "        vertical-align: middle;\n",
       "    }\n",
       "\n",
       "    .dataframe tbody tr th {\n",
       "        vertical-align: top;\n",
       "    }\n",
       "\n",
       "    .dataframe thead th {\n",
       "        text-align: right;\n",
       "    }\n",
       "</style>\n",
       "<table border=\"1\" class=\"dataframe\">\n",
       "  <thead>\n",
       "    <tr style=\"text-align: right;\">\n",
       "      <th></th>\n",
       "      <th>Year</th>\n",
       "      <th>Life Ladder</th>\n",
       "      <th>Log GDP per capita</th>\n",
       "      <th>Social support</th>\n",
       "      <th>Healthy life expectancy at birth</th>\n",
       "      <th>Freedom to make life choices</th>\n",
       "      <th>Generosity</th>\n",
       "      <th>Perceptions of corruption</th>\n",
       "      <th>Positive affect</th>\n",
       "      <th>Negative affect</th>\n",
       "      <th>Confidence in national government</th>\n",
       "      <th>Democratic Quality</th>\n",
       "      <th>Delivery Quality</th>\n",
       "    </tr>\n",
       "    <tr>\n",
       "      <th>Country name</th>\n",
       "      <th></th>\n",
       "      <th></th>\n",
       "      <th></th>\n",
       "      <th></th>\n",
       "      <th></th>\n",
       "      <th></th>\n",
       "      <th></th>\n",
       "      <th></th>\n",
       "      <th></th>\n",
       "      <th></th>\n",
       "      <th></th>\n",
       "      <th></th>\n",
       "      <th></th>\n",
       "    </tr>\n",
       "  </thead>\n",
       "  <tbody>\n",
       "    <tr>\n",
       "      <th>Algeria</th>\n",
       "      <td>2017</td>\n",
       "      <td>5.248912</td>\n",
       "      <td>9.540639</td>\n",
       "      <td>0.806754</td>\n",
       "      <td>65.699997</td>\n",
       "      <td>0.436670</td>\n",
       "      <td>-0.191522</td>\n",
       "      <td>0.699774</td>\n",
       "      <td>0.641980</td>\n",
       "      <td>0.288710</td>\n",
       "      <td>NaN</td>\n",
       "      <td>-0.927691</td>\n",
       "      <td>-0.816839</td>\n",
       "    </tr>\n",
       "    <tr>\n",
       "      <th>Bahrain</th>\n",
       "      <td>2017</td>\n",
       "      <td>6.227321</td>\n",
       "      <td>10.675694</td>\n",
       "      <td>0.875747</td>\n",
       "      <td>68.500000</td>\n",
       "      <td>0.905859</td>\n",
       "      <td>0.128193</td>\n",
       "      <td>NaN</td>\n",
       "      <td>0.813571</td>\n",
       "      <td>0.289760</td>\n",
       "      <td>NaN</td>\n",
       "      <td>-1.167434</td>\n",
       "      <td>0.226644</td>\n",
       "    </tr>\n",
       "    <tr>\n",
       "      <th>China</th>\n",
       "      <td>2017</td>\n",
       "      <td>5.099061</td>\n",
       "      <td>9.636177</td>\n",
       "      <td>0.772033</td>\n",
       "      <td>69.000000</td>\n",
       "      <td>0.877618</td>\n",
       "      <td>-0.191225</td>\n",
       "      <td>NaN</td>\n",
       "      <td>0.821097</td>\n",
       "      <td>0.214005</td>\n",
       "      <td>NaN</td>\n",
       "      <td>-0.877810</td>\n",
       "      <td>-0.064555</td>\n",
       "    </tr>\n",
       "    <tr>\n",
       "      <th>Egypt</th>\n",
       "      <td>2017</td>\n",
       "      <td>3.929344</td>\n",
       "      <td>9.263901</td>\n",
       "      <td>0.638226</td>\n",
       "      <td>61.400002</td>\n",
       "      <td>0.592505</td>\n",
       "      <td>-0.159880</td>\n",
       "      <td>NaN</td>\n",
       "      <td>0.539323</td>\n",
       "      <td>0.414494</td>\n",
       "      <td>NaN</td>\n",
       "      <td>-1.332293</td>\n",
       "      <td>-0.639170</td>\n",
       "    </tr>\n",
       "    <tr>\n",
       "      <th>Iran</th>\n",
       "      <td>2017</td>\n",
       "      <td>4.716783</td>\n",
       "      <td>9.856533</td>\n",
       "      <td>0.714233</td>\n",
       "      <td>65.699997</td>\n",
       "      <td>0.730635</td>\n",
       "      <td>0.186622</td>\n",
       "      <td>0.714941</td>\n",
       "      <td>0.693666</td>\n",
       "      <td>0.438534</td>\n",
       "      <td>NaN</td>\n",
       "      <td>-1.114465</td>\n",
       "      <td>-0.720983</td>\n",
       "    </tr>\n",
       "    <tr>\n",
       "      <th>Jordan</th>\n",
       "      <td>2017</td>\n",
       "      <td>4.808083</td>\n",
       "      <td>9.028518</td>\n",
       "      <td>0.814665</td>\n",
       "      <td>66.599998</td>\n",
       "      <td>0.766262</td>\n",
       "      <td>-0.150126</td>\n",
       "      <td>NaN</td>\n",
       "      <td>0.627798</td>\n",
       "      <td>0.391505</td>\n",
       "      <td>NaN</td>\n",
       "      <td>-0.625527</td>\n",
       "      <td>0.183539</td>\n",
       "    </tr>\n",
       "    <tr>\n",
       "      <th>Kuwait</th>\n",
       "      <td>2017</td>\n",
       "      <td>6.093905</td>\n",
       "      <td>11.090272</td>\n",
       "      <td>0.853491</td>\n",
       "      <td>66.500000</td>\n",
       "      <td>0.884182</td>\n",
       "      <td>-0.039014</td>\n",
       "      <td>NaN</td>\n",
       "      <td>0.692072</td>\n",
       "      <td>0.307321</td>\n",
       "      <td>NaN</td>\n",
       "      <td>-0.323727</td>\n",
       "      <td>-0.114578</td>\n",
       "    </tr>\n",
       "    <tr>\n",
       "      <th>Libya</th>\n",
       "      <td>2017</td>\n",
       "      <td>5.646852</td>\n",
       "      <td>9.791522</td>\n",
       "      <td>0.822759</td>\n",
       "      <td>62.299999</td>\n",
       "      <td>0.778696</td>\n",
       "      <td>-0.053039</td>\n",
       "      <td>0.673066</td>\n",
       "      <td>0.697049</td>\n",
       "      <td>0.379374</td>\n",
       "      <td>NaN</td>\n",
       "      <td>-1.884453</td>\n",
       "      <td>-1.840400</td>\n",
       "    </tr>\n",
       "    <tr>\n",
       "      <th>Morocco</th>\n",
       "      <td>2017</td>\n",
       "      <td>5.312483</td>\n",
       "      <td>8.920658</td>\n",
       "      <td>0.641193</td>\n",
       "      <td>65.599998</td>\n",
       "      <td>0.814258</td>\n",
       "      <td>-0.227034</td>\n",
       "      <td>0.840502</td>\n",
       "      <td>0.559288</td>\n",
       "      <td>0.322716</td>\n",
       "      <td>NaN</td>\n",
       "      <td>-0.530936</td>\n",
       "      <td>-0.173838</td>\n",
       "    </tr>\n",
       "    <tr>\n",
       "      <th>Palestinian Territories</th>\n",
       "      <td>2017</td>\n",
       "      <td>4.628133</td>\n",
       "      <td>NaN</td>\n",
       "      <td>0.824345</td>\n",
       "      <td>NaN</td>\n",
       "      <td>0.631611</td>\n",
       "      <td>NaN</td>\n",
       "      <td>0.830646</td>\n",
       "      <td>0.596766</td>\n",
       "      <td>0.416072</td>\n",
       "      <td>0.414401</td>\n",
       "      <td>-1.337592</td>\n",
       "      <td>-0.205541</td>\n",
       "    </tr>\n",
       "    <tr>\n",
       "      <th>Poland</th>\n",
       "      <td>2017</td>\n",
       "      <td>6.201268</td>\n",
       "      <td>10.211576</td>\n",
       "      <td>0.881854</td>\n",
       "      <td>68.900002</td>\n",
       "      <td>0.830843</td>\n",
       "      <td>-0.127978</td>\n",
       "      <td>NaN</td>\n",
       "      <td>0.677436</td>\n",
       "      <td>0.203388</td>\n",
       "      <td>0.502480</td>\n",
       "      <td>0.651249</td>\n",
       "      <td>0.678493</td>\n",
       "    </tr>\n",
       "    <tr>\n",
       "      <th>Saudi Arabia</th>\n",
       "      <td>2017</td>\n",
       "      <td>6.294282</td>\n",
       "      <td>10.800502</td>\n",
       "      <td>0.840086</td>\n",
       "      <td>66.000000</td>\n",
       "      <td>0.814142</td>\n",
       "      <td>-0.149061</td>\n",
       "      <td>NaN</td>\n",
       "      <td>0.774876</td>\n",
       "      <td>0.305842</td>\n",
       "      <td>NaN</td>\n",
       "      <td>-1.148168</td>\n",
       "      <td>0.177424</td>\n",
       "    </tr>\n",
       "    <tr>\n",
       "      <th>South Sudan</th>\n",
       "      <td>2017</td>\n",
       "      <td>2.816622</td>\n",
       "      <td>NaN</td>\n",
       "      <td>0.556823</td>\n",
       "      <td>51.000000</td>\n",
       "      <td>0.456011</td>\n",
       "      <td>NaN</td>\n",
       "      <td>0.761270</td>\n",
       "      <td>0.585602</td>\n",
       "      <td>0.517364</td>\n",
       "      <td>0.461551</td>\n",
       "      <td>-2.138769</td>\n",
       "      <td>-2.018497</td>\n",
       "    </tr>\n",
       "    <tr>\n",
       "      <th>Taiwan Province of China</th>\n",
       "      <td>2017</td>\n",
       "      <td>6.359451</td>\n",
       "      <td>NaN</td>\n",
       "      <td>0.891119</td>\n",
       "      <td>NaN</td>\n",
       "      <td>0.759655</td>\n",
       "      <td>NaN</td>\n",
       "      <td>0.742780</td>\n",
       "      <td>0.837277</td>\n",
       "      <td>0.114123</td>\n",
       "      <td>0.322822</td>\n",
       "      <td>0.951503</td>\n",
       "      <td>1.185330</td>\n",
       "    </tr>\n",
       "    <tr>\n",
       "      <th>Turkmenistan</th>\n",
       "      <td>2017</td>\n",
       "      <td>5.229149</td>\n",
       "      <td>9.704367</td>\n",
       "      <td>0.908455</td>\n",
       "      <td>61.799999</td>\n",
       "      <td>0.720399</td>\n",
       "      <td>0.043873</td>\n",
       "      <td>NaN</td>\n",
       "      <td>0.520885</td>\n",
       "      <td>0.349628</td>\n",
       "      <td>NaN</td>\n",
       "      <td>-1.153554</td>\n",
       "      <td>-1.545981</td>\n",
       "    </tr>\n",
       "    <tr>\n",
       "      <th>United Arab Emirates</th>\n",
       "      <td>2017</td>\n",
       "      <td>7.039420</td>\n",
       "      <td>11.116818</td>\n",
       "      <td>0.835527</td>\n",
       "      <td>66.900002</td>\n",
       "      <td>0.962017</td>\n",
       "      <td>0.199403</td>\n",
       "      <td>NaN</td>\n",
       "      <td>0.795035</td>\n",
       "      <td>0.207598</td>\n",
       "      <td>NaN</td>\n",
       "      <td>-0.234493</td>\n",
       "      <td>1.085547</td>\n",
       "    </tr>\n",
       "    <tr>\n",
       "      <th>Vietnam</th>\n",
       "      <td>2017</td>\n",
       "      <td>5.175279</td>\n",
       "      <td>8.727759</td>\n",
       "      <td>NaN</td>\n",
       "      <td>67.699997</td>\n",
       "      <td>NaN</td>\n",
       "      <td>NaN</td>\n",
       "      <td>NaN</td>\n",
       "      <td>NaN</td>\n",
       "      <td>NaN</td>\n",
       "      <td>NaN</td>\n",
       "      <td>-0.548213</td>\n",
       "      <td>-0.227277</td>\n",
       "    </tr>\n",
       "    <tr>\n",
       "      <th>Yemen</th>\n",
       "      <td>2017</td>\n",
       "      <td>3.253560</td>\n",
       "      <td>NaN</td>\n",
       "      <td>0.789555</td>\n",
       "      <td>55.900002</td>\n",
       "      <td>0.595191</td>\n",
       "      <td>NaN</td>\n",
       "      <td>NaN</td>\n",
       "      <td>0.455182</td>\n",
       "      <td>0.295064</td>\n",
       "      <td>0.247787</td>\n",
       "      <td>-2.326562</td>\n",
       "      <td>-1.678789</td>\n",
       "    </tr>\n",
       "  </tbody>\n",
       "</table>\n",
       "</div>"
      ],
      "text/plain": [
       "                          Year  Life Ladder  Log GDP per capita  \\\n",
       "Country name                                                      \n",
       "Algeria                   2017     5.248912            9.540639   \n",
       "Bahrain                   2017     6.227321           10.675694   \n",
       "China                     2017     5.099061            9.636177   \n",
       "Egypt                     2017     3.929344            9.263901   \n",
       "Iran                      2017     4.716783            9.856533   \n",
       "Jordan                    2017     4.808083            9.028518   \n",
       "Kuwait                    2017     6.093905           11.090272   \n",
       "Libya                     2017     5.646852            9.791522   \n",
       "Morocco                   2017     5.312483            8.920658   \n",
       "Palestinian Territories   2017     4.628133                 NaN   \n",
       "Poland                    2017     6.201268           10.211576   \n",
       "Saudi Arabia              2017     6.294282           10.800502   \n",
       "South Sudan               2017     2.816622                 NaN   \n",
       "Taiwan Province of China  2017     6.359451                 NaN   \n",
       "Turkmenistan              2017     5.229149            9.704367   \n",
       "United Arab Emirates      2017     7.039420           11.116818   \n",
       "Vietnam                   2017     5.175279            8.727759   \n",
       "Yemen                     2017     3.253560                 NaN   \n",
       "\n",
       "                          Social support  Healthy life expectancy at birth  \\\n",
       "Country name                                                                 \n",
       "Algeria                         0.806754                         65.699997   \n",
       "Bahrain                         0.875747                         68.500000   \n",
       "China                           0.772033                         69.000000   \n",
       "Egypt                           0.638226                         61.400002   \n",
       "Iran                            0.714233                         65.699997   \n",
       "Jordan                          0.814665                         66.599998   \n",
       "Kuwait                          0.853491                         66.500000   \n",
       "Libya                           0.822759                         62.299999   \n",
       "Morocco                         0.641193                         65.599998   \n",
       "Palestinian Territories         0.824345                               NaN   \n",
       "Poland                          0.881854                         68.900002   \n",
       "Saudi Arabia                    0.840086                         66.000000   \n",
       "South Sudan                     0.556823                         51.000000   \n",
       "Taiwan Province of China        0.891119                               NaN   \n",
       "Turkmenistan                    0.908455                         61.799999   \n",
       "United Arab Emirates            0.835527                         66.900002   \n",
       "Vietnam                              NaN                         67.699997   \n",
       "Yemen                           0.789555                         55.900002   \n",
       "\n",
       "                          Freedom to make life choices  Generosity  \\\n",
       "Country name                                                         \n",
       "Algeria                                       0.436670   -0.191522   \n",
       "Bahrain                                       0.905859    0.128193   \n",
       "China                                         0.877618   -0.191225   \n",
       "Egypt                                         0.592505   -0.159880   \n",
       "Iran                                          0.730635    0.186622   \n",
       "Jordan                                        0.766262   -0.150126   \n",
       "Kuwait                                        0.884182   -0.039014   \n",
       "Libya                                         0.778696   -0.053039   \n",
       "Morocco                                       0.814258   -0.227034   \n",
       "Palestinian Territories                       0.631611         NaN   \n",
       "Poland                                        0.830843   -0.127978   \n",
       "Saudi Arabia                                  0.814142   -0.149061   \n",
       "South Sudan                                   0.456011         NaN   \n",
       "Taiwan Province of China                      0.759655         NaN   \n",
       "Turkmenistan                                  0.720399    0.043873   \n",
       "United Arab Emirates                          0.962017    0.199403   \n",
       "Vietnam                                            NaN         NaN   \n",
       "Yemen                                         0.595191         NaN   \n",
       "\n",
       "                          Perceptions of corruption  Positive affect  \\\n",
       "Country name                                                           \n",
       "Algeria                                    0.699774         0.641980   \n",
       "Bahrain                                         NaN         0.813571   \n",
       "China                                           NaN         0.821097   \n",
       "Egypt                                           NaN         0.539323   \n",
       "Iran                                       0.714941         0.693666   \n",
       "Jordan                                          NaN         0.627798   \n",
       "Kuwait                                          NaN         0.692072   \n",
       "Libya                                      0.673066         0.697049   \n",
       "Morocco                                    0.840502         0.559288   \n",
       "Palestinian Territories                    0.830646         0.596766   \n",
       "Poland                                          NaN         0.677436   \n",
       "Saudi Arabia                                    NaN         0.774876   \n",
       "South Sudan                                0.761270         0.585602   \n",
       "Taiwan Province of China                   0.742780         0.837277   \n",
       "Turkmenistan                                    NaN         0.520885   \n",
       "United Arab Emirates                            NaN         0.795035   \n",
       "Vietnam                                         NaN              NaN   \n",
       "Yemen                                           NaN         0.455182   \n",
       "\n",
       "                          Negative affect  Confidence in national government  \\\n",
       "Country name                                                                   \n",
       "Algeria                          0.288710                                NaN   \n",
       "Bahrain                          0.289760                                NaN   \n",
       "China                            0.214005                                NaN   \n",
       "Egypt                            0.414494                                NaN   \n",
       "Iran                             0.438534                                NaN   \n",
       "Jordan                           0.391505                                NaN   \n",
       "Kuwait                           0.307321                                NaN   \n",
       "Libya                            0.379374                                NaN   \n",
       "Morocco                          0.322716                                NaN   \n",
       "Palestinian Territories          0.416072                           0.414401   \n",
       "Poland                           0.203388                           0.502480   \n",
       "Saudi Arabia                     0.305842                                NaN   \n",
       "South Sudan                      0.517364                           0.461551   \n",
       "Taiwan Province of China         0.114123                           0.322822   \n",
       "Turkmenistan                     0.349628                                NaN   \n",
       "United Arab Emirates             0.207598                                NaN   \n",
       "Vietnam                               NaN                                NaN   \n",
       "Yemen                            0.295064                           0.247787   \n",
       "\n",
       "                          Democratic Quality  Delivery Quality  \n",
       "Country name                                                    \n",
       "Algeria                            -0.927691         -0.816839  \n",
       "Bahrain                            -1.167434          0.226644  \n",
       "China                              -0.877810         -0.064555  \n",
       "Egypt                              -1.332293         -0.639170  \n",
       "Iran                               -1.114465         -0.720983  \n",
       "Jordan                             -0.625527          0.183539  \n",
       "Kuwait                             -0.323727         -0.114578  \n",
       "Libya                              -1.884453         -1.840400  \n",
       "Morocco                            -0.530936         -0.173838  \n",
       "Palestinian Territories            -1.337592         -0.205541  \n",
       "Poland                              0.651249          0.678493  \n",
       "Saudi Arabia                       -1.148168          0.177424  \n",
       "South Sudan                        -2.138769         -2.018497  \n",
       "Taiwan Province of China            0.951503          1.185330  \n",
       "Turkmenistan                       -1.153554         -1.545981  \n",
       "United Arab Emirates               -0.234493          1.085547  \n",
       "Vietnam                            -0.548213         -0.227277  \n",
       "Yemen                              -2.326562         -1.678789  "
      ]
     },
     "execution_count": 3,
     "metadata": {},
     "output_type": "execute_result"
    }
   ],
   "source": [
    "happy_2017[happy_2017.isnull().any(axis = 1)]"
   ]
  },
  {
   "cell_type": "markdown",
   "metadata": {},
   "source": [
    "Some missing data, like ones in \"Log GDP per capita\", could be searched up on the internet, although sometimes difficult, and we filled in the missing data. Other variables, like ones in \"Healthy life expectancy\", could not be easily searched up on the internet. For these missing data, we decided to remove the country's observation altogether, as we were unable to accurately fill them in. We ended up dropping 5 observations (Palestininan Territories, Taiwan Province of China, South Sudan, Vietnam, Yemen)."
   ]
  },
  {
   "cell_type": "code",
   "execution_count": 4,
   "metadata": {},
   "outputs": [],
   "source": [
    "# drop the 5 countries\n",
    "happy_2017 = happy_2017.drop(['Palestinian Territories','Taiwan Province of China', 'South Sudan', 'Vietnam', 'Yemen'])"
   ]
  },
  {
   "cell_type": "markdown",
   "metadata": {},
   "source": [
    "Of the 19 countries, we could see that a large portion of them had both \"Perceptions of corruption\" and/or \"Confidence in national government\" data missing, which could be an interesting indicator of their country's politics. We decided to fill in this missing information, so we used two separate OLS models, one to predict \"Perceptions of corruption\" and \"Confidence in national government.\" To build the model, we only used available data (no missing data values) from 2017 and plotted all quantitative variables against \"Confidence in national government\" (and then doing the same against \"Perceptions of corruption\"), and if plots showed any linear relationship, we picked those variables to build the model. We found that the combination \"Freedom to make life choices\" and \"Generosity\" variables had a statistically significant relationship with \"Confidence in national government\" (p-values of coefficients were less than the accepted 0.05) and used this model to predict missing \"Confidence in national government\" data in 2017. We also found that the combination of \"Generosity\", \"Democratic Quality\", and \"Delievery Quality\" had a statistically significant relationship with \"Perceptions of corruption\" and used this model to predict missing \"Perceptions of corruption\" data in 2017."
   ]
  },
  {
   "cell_type": "code",
   "execution_count": 5,
   "metadata": {},
   "outputs": [
    {
     "name": "stdout",
     "output_type": "stream",
     "text": [
      "                                      OLS Regression Results                                      \n",
      "==================================================================================================\n",
      "Dep. Variable:     Q(\"Confidence in national government\")   R-squared:                       0.273\n",
      "Model:                                                OLS   Adj. R-squared:                  0.262\n",
      "Method:                                     Least Squares   F-statistic:                     23.69\n",
      "Date:                                    Thu, 05 Dec 2019   Prob (F-statistic):           1.84e-09\n",
      "Time:                                            12:01:42   Log-Likelihood:                 41.936\n",
      "No. Observations:                                     129   AIC:                            -77.87\n",
      "Df Residuals:                                         126   BIC:                            -69.29\n",
      "Df Model:                                               2                                         \n",
      "Covariance Type:                                nonrobust                                         \n",
      "=====================================================================================================\n",
      "                                        coef    std err          t      P>|t|      [0.025      0.975]\n",
      "-----------------------------------------------------------------------------------------------------\n",
      "Intercept                             0.0458      0.107      0.429      0.669      -0.166       0.257\n",
      "Q(\"Freedom to make life choices\")     0.5870      0.134      4.367      0.000       0.321       0.853\n",
      "Q(\"Generosity\")                       0.3703      0.104      3.547      0.001       0.164       0.577\n",
      "==============================================================================\n",
      "Omnibus:                        6.700   Durbin-Watson:                   1.734\n",
      "Prob(Omnibus):                  0.035   Jarque-Bera (JB):                4.512\n",
      "Skew:                           0.309   Prob(JB):                        0.105\n",
      "Kurtosis:                       2.323   Cond. No.                         14.4\n",
      "==============================================================================\n",
      "\n",
      "Warnings:\n",
      "[1] Standard Errors assume that the covariance matrix of the errors is correctly specified.\n"
     ]
    }
   ],
   "source": [
    "# model to predict missing \"Confidence in national governmnent\" data in 2017\n",
    "df = happy_2017.dropna()\n",
    "model = smf.ols('Q(\"Confidence in national government\") ~ Q(\"Freedom to make life choices\") + Q(\"Generosity\")', data = df)\n",
    "results = model.fit()\n",
    "print(results.summary())"
   ]
  },
  {
   "cell_type": "code",
   "execution_count": 6,
   "metadata": {},
   "outputs": [],
   "source": [
    "# predicting missing \"Confidence in national government\" scores and placing it to the dataframe\n",
    "confidence = happy_2017[happy_2017['Confidence in national government'].isna()]\n",
    "for country in confidence.index:\n",
    "    df = happy_2017[happy_2017.index == country]\n",
    "    happy_2017.loc[country,'Confidence in national government'] = results.predict(df)[country]"
   ]
  },
  {
   "cell_type": "code",
   "execution_count": 7,
   "metadata": {},
   "outputs": [
    {
     "name": "stdout",
     "output_type": "stream",
     "text": [
      "                                  OLS Regression Results                                  \n",
      "==========================================================================================\n",
      "Dep. Variable:     Q(\"Perceptions of corruption\")   R-squared:                       0.477\n",
      "Model:                                        OLS   Adj. R-squared:                  0.465\n",
      "Method:                             Least Squares   F-statistic:                     39.27\n",
      "Date:                            Thu, 05 Dec 2019   Prob (F-statistic):           4.26e-18\n",
      "Time:                                    12:01:42   Log-Likelihood:                 78.559\n",
      "No. Observations:                             133   AIC:                            -149.1\n",
      "Df Residuals:                                 129   BIC:                            -137.6\n",
      "Df Model:                                       3                                         \n",
      "Covariance Type:                        nonrobust                                         \n",
      "===========================================================================================\n",
      "                              coef    std err          t      P>|t|      [0.025      0.975]\n",
      "-------------------------------------------------------------------------------------------\n",
      "Intercept                   0.7352      0.012     61.474      0.000       0.712       0.759\n",
      "Q(\"Generosity\")            -0.3182      0.076     -4.177      0.000      -0.469      -0.168\n",
      "Q(\"Democratic Quality\")     0.1071      0.030      3.585      0.000       0.048       0.166\n",
      "Q(\"Delivery Quality\")      -0.1812      0.026     -6.962      0.000      -0.233      -0.130\n",
      "==============================================================================\n",
      "Omnibus:                        0.935   Durbin-Watson:                   1.844\n",
      "Prob(Omnibus):                  0.627   Jarque-Bera (JB):                0.780\n",
      "Skew:                          -0.188   Prob(JB):                        0.677\n",
      "Kurtosis:                       3.004   Cond. No.                         8.17\n",
      "==============================================================================\n",
      "\n",
      "Warnings:\n",
      "[1] Standard Errors assume that the covariance matrix of the errors is correctly specified.\n"
     ]
    }
   ],
   "source": [
    "# model to predict missing \"Perceptions of corruption\" data in 2017\n",
    "df = happy_2017.dropna()\n",
    "model2 = smf.ols('Q(\"Perceptions of corruption\") ~ Q(\"Generosity\") + Q(\"Democratic Quality\") + Q(\"Delivery Quality\")', data = df)\n",
    "results2 = model2.fit()\n",
    "print(results2.summary())"
   ]
  },
  {
   "cell_type": "code",
   "execution_count": 8,
   "metadata": {},
   "outputs": [],
   "source": [
    "# predicting missing \"Perceptions of corruption\" scores and placing it to the dataframe\n",
    "perception = happy_2017[happy_2017['Perceptions of corruption'].isna()]['Perceptions of corruption']\n",
    "for country in perception.index:\n",
    "    df = happy_2017[happy_2017.index == country]\n",
    "    happy_2017.loc[country,'Perceptions of corruption'] = results2.predict(df)[country]"
   ]
  },
  {
   "cell_type": "markdown",
   "metadata": {},
   "source": [
    "From here, we inputted the predicted missing data back into the appropriate cells and dropped appropriate observations. While cleaning the data, we noticed variables that we did not have sufficient explanations of what they were (Standard deviation/mean of ladder by country-year and gini of household income) and removed the columns."
   ]
  },
  {
   "cell_type": "code",
   "execution_count": 9,
   "metadata": {},
   "outputs": [
    {
     "data": {
      "text/html": [
       "<div>\n",
       "<style scoped>\n",
       "    .dataframe tbody tr th:only-of-type {\n",
       "        vertical-align: middle;\n",
       "    }\n",
       "\n",
       "    .dataframe tbody tr th {\n",
       "        vertical-align: top;\n",
       "    }\n",
       "\n",
       "    .dataframe thead th {\n",
       "        text-align: right;\n",
       "    }\n",
       "</style>\n",
       "<table border=\"1\" class=\"dataframe\">\n",
       "  <thead>\n",
       "    <tr style=\"text-align: right;\">\n",
       "      <th></th>\n",
       "      <th>Year</th>\n",
       "      <th>Life Ladder</th>\n",
       "      <th>Log GDP per capita</th>\n",
       "      <th>Social support</th>\n",
       "      <th>Healthy life expectancy at birth</th>\n",
       "      <th>Freedom to make life choices</th>\n",
       "      <th>Generosity</th>\n",
       "      <th>Perceptions of corruption</th>\n",
       "      <th>Positive affect</th>\n",
       "      <th>Negative affect</th>\n",
       "      <th>Confidence in national government</th>\n",
       "      <th>Democratic Quality</th>\n",
       "      <th>Delivery Quality</th>\n",
       "    </tr>\n",
       "    <tr>\n",
       "      <th>Country name</th>\n",
       "      <th></th>\n",
       "      <th></th>\n",
       "      <th></th>\n",
       "      <th></th>\n",
       "      <th></th>\n",
       "      <th></th>\n",
       "      <th></th>\n",
       "      <th></th>\n",
       "      <th></th>\n",
       "      <th></th>\n",
       "      <th></th>\n",
       "      <th></th>\n",
       "      <th></th>\n",
       "    </tr>\n",
       "  </thead>\n",
       "  <tbody>\n",
       "  </tbody>\n",
       "</table>\n",
       "</div>"
      ],
      "text/plain": [
       "Empty DataFrame\n",
       "Columns: [Year, Life Ladder, Log GDP per capita, Social support, Healthy life expectancy at birth, Freedom to make life choices, Generosity, Perceptions of corruption, Positive affect, Negative affect, Confidence in national government, Democratic Quality, Delivery Quality]\n",
       "Index: []"
      ]
     },
     "execution_count": 9,
     "metadata": {},
     "output_type": "execute_result"
    }
   ],
   "source": [
    "# we see that there is no missing data anymore\n",
    "happy_2017[happy_2017.isnull().any(axis = 1)]"
   ]
  },
  {
   "cell_type": "markdown",
   "metadata": {},
   "source": [
    "##### <span style=\"color:darkblue\">Combining Regions to Data</span> #####"
   ]
  },
  {
   "cell_type": "markdown",
   "metadata": {},
   "source": [
    "Here, we added a new column to the dataset, Region, denoting which region the country was geographically located. We added this region from a different dataset that had this information, and merged that dataframe with our clean dataframe. Some countries did not have a region, and we filled in this information by searching on the internet where the countries were located."
   ]
  },
  {
   "cell_type": "code",
   "execution_count": 10,
   "metadata": {},
   "outputs": [],
   "source": [
    "country = pd.read_csv(\"https://raw.githubusercontent.com/uyc201/stats131finalproject/master/countries.csv\")"
   ]
  },
  {
   "cell_type": "code",
   "execution_count": 11,
   "metadata": {},
   "outputs": [],
   "source": [
    "country_name = happy_2017.index.values\n",
    "country_name = pd.DataFrame(country_name)\n",
    "country_name.columns = ['Country']\n",
    "country = country[['Country','Region']]"
   ]
  },
  {
   "cell_type": "code",
   "execution_count": 13,
   "metadata": {
    "scrolled": false
   },
   "outputs": [
    {
     "data": {
      "text/html": [
       "<div>\n",
       "<style scoped>\n",
       "    .dataframe tbody tr th:only-of-type {\n",
       "        vertical-align: middle;\n",
       "    }\n",
       "\n",
       "    .dataframe tbody tr th {\n",
       "        vertical-align: top;\n",
       "    }\n",
       "\n",
       "    .dataframe thead th {\n",
       "        text-align: right;\n",
       "    }\n",
       "</style>\n",
       "<table border=\"1\" class=\"dataframe\">\n",
       "  <thead>\n",
       "    <tr style=\"text-align: right;\">\n",
       "      <th></th>\n",
       "      <th>Year</th>\n",
       "      <th>Life Ladder</th>\n",
       "      <th>Log GDP per capita</th>\n",
       "      <th>Social support</th>\n",
       "      <th>Healthy life expectancy at birth</th>\n",
       "      <th>Freedom to make life choices</th>\n",
       "      <th>Generosity</th>\n",
       "      <th>Perceptions of corruption</th>\n",
       "      <th>Positive affect</th>\n",
       "      <th>Negative affect</th>\n",
       "      <th>...</th>\n",
       "      <th>gini of household income reported in Gallup, by wp5-year</th>\n",
       "      <th>Most people can be trusted, Gallup</th>\n",
       "      <th>Most people can be trusted, WVS round 1981-1984</th>\n",
       "      <th>Most people can be trusted, WVS round 1989-1993</th>\n",
       "      <th>Most people can be trusted, WVS round 1994-1998</th>\n",
       "      <th>Most people can be trusted, WVS round 1999-2004</th>\n",
       "      <th>Most people can be trusted, WVS round 2005-2009</th>\n",
       "      <th>Most people can be trusted, WVS round 2010-2014</th>\n",
       "      <th>Country</th>\n",
       "      <th>Region</th>\n",
       "    </tr>\n",
       "    <tr>\n",
       "      <th>Country name</th>\n",
       "      <th></th>\n",
       "      <th></th>\n",
       "      <th></th>\n",
       "      <th></th>\n",
       "      <th></th>\n",
       "      <th></th>\n",
       "      <th></th>\n",
       "      <th></th>\n",
       "      <th></th>\n",
       "      <th></th>\n",
       "      <th></th>\n",
       "      <th></th>\n",
       "      <th></th>\n",
       "      <th></th>\n",
       "      <th></th>\n",
       "      <th></th>\n",
       "      <th></th>\n",
       "      <th></th>\n",
       "      <th></th>\n",
       "      <th></th>\n",
       "      <th></th>\n",
       "    </tr>\n",
       "  </thead>\n",
       "  <tbody>\n",
       "    <tr>\n",
       "      <th>Afghanistan</th>\n",
       "      <td>2008</td>\n",
       "      <td>3.723590</td>\n",
       "      <td>7.168690</td>\n",
       "      <td>0.450662</td>\n",
       "      <td>50.799999</td>\n",
       "      <td>0.718114</td>\n",
       "      <td>0.177889</td>\n",
       "      <td>0.881686</td>\n",
       "      <td>0.517637</td>\n",
       "      <td>0.258195</td>\n",
       "      <td>...</td>\n",
       "      <td>NaN</td>\n",
       "      <td>NaN</td>\n",
       "      <td>NaN</td>\n",
       "      <td>NaN</td>\n",
       "      <td>NaN</td>\n",
       "      <td>NaN</td>\n",
       "      <td>NaN</td>\n",
       "      <td>NaN</td>\n",
       "      <td>Afghanistan</td>\n",
       "      <td>ASIA (EX. NEAR EAST)</td>\n",
       "    </tr>\n",
       "    <tr>\n",
       "      <th>Afghanistan</th>\n",
       "      <td>2009</td>\n",
       "      <td>4.401778</td>\n",
       "      <td>7.333790</td>\n",
       "      <td>0.552308</td>\n",
       "      <td>51.200001</td>\n",
       "      <td>0.678896</td>\n",
       "      <td>0.200178</td>\n",
       "      <td>0.850035</td>\n",
       "      <td>0.583926</td>\n",
       "      <td>0.237092</td>\n",
       "      <td>...</td>\n",
       "      <td>0.441906</td>\n",
       "      <td>0.286315</td>\n",
       "      <td>NaN</td>\n",
       "      <td>NaN</td>\n",
       "      <td>NaN</td>\n",
       "      <td>NaN</td>\n",
       "      <td>NaN</td>\n",
       "      <td>NaN</td>\n",
       "      <td>Afghanistan</td>\n",
       "      <td>ASIA (EX. NEAR EAST)</td>\n",
       "    </tr>\n",
       "    <tr>\n",
       "      <th>Afghanistan</th>\n",
       "      <td>2010</td>\n",
       "      <td>4.758381</td>\n",
       "      <td>7.386629</td>\n",
       "      <td>0.539075</td>\n",
       "      <td>51.599998</td>\n",
       "      <td>0.600127</td>\n",
       "      <td>0.134353</td>\n",
       "      <td>0.706766</td>\n",
       "      <td>0.618265</td>\n",
       "      <td>0.275324</td>\n",
       "      <td>...</td>\n",
       "      <td>0.327318</td>\n",
       "      <td>0.275833</td>\n",
       "      <td>NaN</td>\n",
       "      <td>NaN</td>\n",
       "      <td>NaN</td>\n",
       "      <td>NaN</td>\n",
       "      <td>NaN</td>\n",
       "      <td>NaN</td>\n",
       "      <td>Afghanistan</td>\n",
       "      <td>ASIA (EX. NEAR EAST)</td>\n",
       "    </tr>\n",
       "    <tr>\n",
       "      <th>Afghanistan</th>\n",
       "      <td>2011</td>\n",
       "      <td>3.831719</td>\n",
       "      <td>7.415019</td>\n",
       "      <td>0.521104</td>\n",
       "      <td>51.919998</td>\n",
       "      <td>0.495901</td>\n",
       "      <td>0.172137</td>\n",
       "      <td>0.731109</td>\n",
       "      <td>0.611387</td>\n",
       "      <td>0.267175</td>\n",
       "      <td>...</td>\n",
       "      <td>0.336764</td>\n",
       "      <td>NaN</td>\n",
       "      <td>NaN</td>\n",
       "      <td>NaN</td>\n",
       "      <td>NaN</td>\n",
       "      <td>NaN</td>\n",
       "      <td>NaN</td>\n",
       "      <td>NaN</td>\n",
       "      <td>Afghanistan</td>\n",
       "      <td>ASIA (EX. NEAR EAST)</td>\n",
       "    </tr>\n",
       "    <tr>\n",
       "      <th>Afghanistan</th>\n",
       "      <td>2012</td>\n",
       "      <td>3.782938</td>\n",
       "      <td>7.517126</td>\n",
       "      <td>0.520637</td>\n",
       "      <td>52.240002</td>\n",
       "      <td>0.530935</td>\n",
       "      <td>0.244273</td>\n",
       "      <td>0.775620</td>\n",
       "      <td>0.710385</td>\n",
       "      <td>0.267919</td>\n",
       "      <td>...</td>\n",
       "      <td>0.344540</td>\n",
       "      <td>NaN</td>\n",
       "      <td>NaN</td>\n",
       "      <td>NaN</td>\n",
       "      <td>NaN</td>\n",
       "      <td>NaN</td>\n",
       "      <td>NaN</td>\n",
       "      <td>NaN</td>\n",
       "      <td>Afghanistan</td>\n",
       "      <td>ASIA (EX. NEAR EAST)</td>\n",
       "    </tr>\n",
       "  </tbody>\n",
       "</table>\n",
       "<p>5 rows × 27 columns</p>\n",
       "</div>"
      ],
      "text/plain": [
       "              Year  Life Ladder  Log GDP per capita  Social support  \\\n",
       "Country name                                                          \n",
       "Afghanistan   2008     3.723590            7.168690        0.450662   \n",
       "Afghanistan   2009     4.401778            7.333790        0.552308   \n",
       "Afghanistan   2010     4.758381            7.386629        0.539075   \n",
       "Afghanistan   2011     3.831719            7.415019        0.521104   \n",
       "Afghanistan   2012     3.782938            7.517126        0.520637   \n",
       "\n",
       "              Healthy life expectancy at birth  Freedom to make life choices  \\\n",
       "Country name                                                                   \n",
       "Afghanistan                          50.799999                      0.718114   \n",
       "Afghanistan                          51.200001                      0.678896   \n",
       "Afghanistan                          51.599998                      0.600127   \n",
       "Afghanistan                          51.919998                      0.495901   \n",
       "Afghanistan                          52.240002                      0.530935   \n",
       "\n",
       "              Generosity  Perceptions of corruption  Positive affect  \\\n",
       "Country name                                                           \n",
       "Afghanistan     0.177889                   0.881686         0.517637   \n",
       "Afghanistan     0.200178                   0.850035         0.583926   \n",
       "Afghanistan     0.134353                   0.706766         0.618265   \n",
       "Afghanistan     0.172137                   0.731109         0.611387   \n",
       "Afghanistan     0.244273                   0.775620         0.710385   \n",
       "\n",
       "              Negative affect  ...  \\\n",
       "Country name                   ...   \n",
       "Afghanistan          0.258195  ...   \n",
       "Afghanistan          0.237092  ...   \n",
       "Afghanistan          0.275324  ...   \n",
       "Afghanistan          0.267175  ...   \n",
       "Afghanistan          0.267919  ...   \n",
       "\n",
       "              gini of household income reported in Gallup, by wp5-year  \\\n",
       "Country name                                                             \n",
       "Afghanistan                                                 NaN          \n",
       "Afghanistan                                            0.441906          \n",
       "Afghanistan                                            0.327318          \n",
       "Afghanistan                                            0.336764          \n",
       "Afghanistan                                            0.344540          \n",
       "\n",
       "              Most people can be trusted, Gallup  \\\n",
       "Country name                                       \n",
       "Afghanistan                                  NaN   \n",
       "Afghanistan                             0.286315   \n",
       "Afghanistan                             0.275833   \n",
       "Afghanistan                                  NaN   \n",
       "Afghanistan                                  NaN   \n",
       "\n",
       "              Most people can be trusted, WVS round 1981-1984  \\\n",
       "Country name                                                    \n",
       "Afghanistan                                               NaN   \n",
       "Afghanistan                                               NaN   \n",
       "Afghanistan                                               NaN   \n",
       "Afghanistan                                               NaN   \n",
       "Afghanistan                                               NaN   \n",
       "\n",
       "              Most people can be trusted, WVS round 1989-1993  \\\n",
       "Country name                                                    \n",
       "Afghanistan                                               NaN   \n",
       "Afghanistan                                               NaN   \n",
       "Afghanistan                                               NaN   \n",
       "Afghanistan                                               NaN   \n",
       "Afghanistan                                               NaN   \n",
       "\n",
       "              Most people can be trusted, WVS round 1994-1998  \\\n",
       "Country name                                                    \n",
       "Afghanistan                                               NaN   \n",
       "Afghanistan                                               NaN   \n",
       "Afghanistan                                               NaN   \n",
       "Afghanistan                                               NaN   \n",
       "Afghanistan                                               NaN   \n",
       "\n",
       "              Most people can be trusted, WVS round 1999-2004  \\\n",
       "Country name                                                    \n",
       "Afghanistan                                               NaN   \n",
       "Afghanistan                                               NaN   \n",
       "Afghanistan                                               NaN   \n",
       "Afghanistan                                               NaN   \n",
       "Afghanistan                                               NaN   \n",
       "\n",
       "              Most people can be trusted, WVS round 2005-2009  \\\n",
       "Country name                                                    \n",
       "Afghanistan                                               NaN   \n",
       "Afghanistan                                               NaN   \n",
       "Afghanistan                                               NaN   \n",
       "Afghanistan                                               NaN   \n",
       "Afghanistan                                               NaN   \n",
       "\n",
       "              Most people can be trusted, WVS round 2010-2014      Country  \\\n",
       "Country name                                                                 \n",
       "Afghanistan                                               NaN  Afghanistan   \n",
       "Afghanistan                                               NaN  Afghanistan   \n",
       "Afghanistan                                               NaN  Afghanistan   \n",
       "Afghanistan                                               NaN  Afghanistan   \n",
       "Afghanistan                                               NaN  Afghanistan   \n",
       "\n",
       "                                     Region  \n",
       "Country name                                 \n",
       "Afghanistan   ASIA (EX. NEAR EAST)           \n",
       "Afghanistan   ASIA (EX. NEAR EAST)           \n",
       "Afghanistan   ASIA (EX. NEAR EAST)           \n",
       "Afghanistan   ASIA (EX. NEAR EAST)           \n",
       "Afghanistan   ASIA (EX. NEAR EAST)           \n",
       "\n",
       "[5 rows x 27 columns]"
      ]
     },
     "execution_count": 13,
     "metadata": {},
     "output_type": "execute_result"
    }
   ],
   "source": [
    "country_name['Country'] = country_name['Country'].astype(str)\n",
    "country['Country'] = country['Country'].astype(str)\n",
    "country_name['Country'] = country_name['Country'].str.strip()\n",
    "country['Country'] = country['Country'].str.strip()\n",
    "\n",
    "inner = pd.merge(left=country_name, right=country, left_on=\"Country\", right_on = \"Country\", how='left')\n",
    "inner\n",
    "\n",
    "happy_final = pd.merge(left=happy, right=inner, left_on='Country name', right_on = 'Country', how='left')\n",
    "happy_final = happy_final.set_index('Country name')\n",
    "happy_final.head()\n",
    "#happy_final.to_csv(\"/Users/Rebecca/Downloads/happy_2017_final.csv\")"
   ]
  },
  {
   "cell_type": "code",
   "execution_count": 14,
   "metadata": {},
   "outputs": [],
   "source": [
    "happy_2017_final = pd.read_csv('https://raw.githubusercontent.com/uyc201/stats131finalproject/master/happy_2017_final.csv', index_col = 0)"
   ]
  },
  {
   "cell_type": "markdown",
   "metadata": {},
   "source": [
    "## Summary Statistics & Distributions ##"
   ]
  },
  {
   "cell_type": "markdown",
   "metadata": {},
   "source": [
    "##### <span style=\"color:darkblue\">Relationships Between Life Ladder and Other Variables Across All Years</span> #####\n",
    "\n",
    "Are there any general trends between certain variables that we can look to when exploring 2017's data?"
   ]
  },
  {
   "cell_type": "code",
   "execution_count": null,
   "metadata": {},
   "outputs": [],
   "source": [
    "url = 'https://raw.githubusercontent.com/uyc201/stats131finalproject/master/Chapter2OnlineData.csv'\n",
    "happy = pd.read_csv(url) # complete data set\n",
    "col_range = [0, 1, 2, 3, 4, 5, 6, 7, 8, 9, 10, 11, 12, 13] # columns of interest\n",
    "happy_clean = happy.iloc[:,col_range] # subsetting columns of interest\n",
    "happy_clean.iloc[:,1:] = happy_clean.iloc[:,1:].apply(pd.to_numeric) # changing type of each variable\n",
    "happy_fin = happy_clean.set_index('Country name') # indexing by country"
   ]
  },
  {
   "cell_type": "code",
   "execution_count": null,
   "metadata": {},
   "outputs": [],
   "source": [
    "fig,axes=plt.subplots(nrows=5,ncols=2,figsize=(20,30))\n",
    "fig.delaxes(axes[4][1])\n",
    "\n",
    "happy_fin.plot(x=\"Social support\",y=\"Life Ladder\",kind=\"scatter\",ax=axes[0,0])\n",
    "happy_fin.plot(x=\"Log GDP per capita\",y=\"Life Ladder\",kind=\"scatter\",ax=axes[0,1])\n",
    "happy_fin.plot(x=\"Healthy life expectancy at birth\",y=\"Life Ladder\",kind=\"scatter\",ax=axes[1,0])\n",
    "happy_fin.plot(x=\"Freedom to make life choices\",y=\"Life Ladder\",kind=\"scatter\",ax=axes[1,1])\n",
    "happy_fin.plot(x=\"Generosity\",y=\"Life Ladder\",kind=\"scatter\",ax=axes[2,0])\n",
    "happy_fin.plot(x=\"Perceptions of corruption\",y=\"Life Ladder\",kind=\"scatter\",ax=axes[2,1])\n",
    "happy_fin.plot(x=\"Positive affect\",y=\"Life Ladder\",kind=\"scatter\",ax=axes[3,0])\n",
    "happy_fin.plot(x=\"Negative affect\",y=\"Life Ladder\",kind=\"scatter\",ax=axes[3,1])\n",
    "happy_fin.plot(x=\"Confidence in national government\",y=\"Life Ladder\",kind=\"scatter\",ax=axes[4,0])\n",
    "fig.suptitle('Scatterplots between Life Ladder and Other Variables',size=20)\n",
    "fig.subplots_adjust(top=.965)\n",
    "plt.show()"
   ]
  },
  {
   "cell_type": "markdown",
   "metadata": {},
   "source": [
    "The scatterplots show that there is a fairly strong relationship between Social support and Life Ladder, although it may or may not be linear. There seems to be a fairly strong linear relationship between Life Ladder and Log GDP per capita, and Healthy life expectancy, and a weak linear relationship with Positive affect. There is almost no relationship between Life Ladder and Generosity, Perceptions of corruption, and Confidence in national government."
   ]
  },
  {
   "cell_type": "markdown",
   "metadata": {},
   "source": [
    "##### <span style=\"color:darkblue\">Relationships Between Variables in 2017 By Region</span> #####\n",
    "\n",
    "__The plot below shows the relationship between \"life ladder\" scores and \"social support\" scores color-coordinated by regions.__"
   ]
  },
  {
   "cell_type": "code",
   "execution_count": null,
   "metadata": {},
   "outputs": [],
   "source": [
    "sns.lmplot(y='Life Ladder',x='Social support', hue='Region',data=happy_2017_final,fit_reg=False,scatter_kws={'alpha':1,'s':20})\n",
    "plt.title('Life Ladder vs Social support')\n",
    "plt.show()"
   ]
  },
  {
   "cell_type": "markdown",
   "metadata": {},
   "source": [
    "Holistically, the plot shows a positive, linear relationship with these two scores, meaning that happier countries tend to also have their citizens being able to help one another in times of need. Countries in Sub-Saharan Africa are clearly in bottom left of the graph, indicating low \"life ladder\" and \"social support\" scores. It is also clear that countries in regions Near East and Western Europe have the highest \"life ladder and \"social support\" scores.\n",
    "\n",
    "__The plot below shows the relationship between \"life ladder\" scores and \"Healthy life expectnacy at birth\" scores color-coordinated by regions.__"
   ]
  },
  {
   "cell_type": "code",
   "execution_count": null,
   "metadata": {},
   "outputs": [],
   "source": [
    "sns.lmplot(y='Life Ladder',x='Healthy life expectancy at birth',hue='Region',data=happy_2017_final,fit_reg=False,scatter_kws={'alpha':1,'s':20})\n",
    "plt.title('Life Ladder vs Healthy life expectancy at birth')\n",
    "plt.show()"
   ]
  },
  {
   "cell_type": "markdown",
   "metadata": {},
   "source": [
    "Holistically, the plot shows a positive relationship between the two variables, meaning that happier countries tend to also have people with higher healthy life expectancy at birth. Countries in Sub-Saharan Africa are clearly in bottom left of the graph, also indicating that people in these countries experience the lowest healthy life expectancy when born. It is also clear that countries in regions Near East and Western Europe also have the highest healthy life expectacny at birth, as well.\n",
    "\n",
    "__The plot below shows the relationship between \"life ladder\" scores and \"Log GDP per capita\" scores color-coordinated by regions.__"
   ]
  },
  {
   "cell_type": "code",
   "execution_count": null,
   "metadata": {},
   "outputs": [],
   "source": [
    "sns.lmplot(y='Life Ladder',x='Log GDP per capita',hue='Region',data=happy_2017_final,fit_reg=False,scatter_kws={'alpha':1,'s':20})\n",
    "plt.title('Life Ladder vs Log GDP per capita')\n",
    "plt.show()"
   ]
  },
  {
   "cell_type": "markdown",
   "metadata": {},
   "source": [
    "Holistically, the plot shows a positive, although weak perhaps, relationship between the two variables. Countries in Sub-Saharan Africa are once again clearly in bottom left of the graph, indicating that these countries have the weakest productive capacity and lowest wealth compared to other countries. Countries in Western Europe and Near East also have the highest productive capacity and wealth. Interestingly, countries in Asia, excluding the Near East region, show a wide range in happiness scores and Log GDP per capita.\n",
    "\n",
    "__The plot below shows the relationship between \"life ladder\" scores and \"freedom to make life choices\" scores color-coordinated by regions.__"
   ]
  },
  {
   "cell_type": "code",
   "execution_count": null,
   "metadata": {},
   "outputs": [],
   "source": [
    "sns.lmplot(y='Life Ladder',x='Freedom to make life choices',hue='Region',data=happy_2017_final,fit_reg=False,scatter_kws={'alpha':1,'s':20})\n",
    "plt.title('Life Ladder vs Freedom to make life choices')\n",
    "plt.show()"
   ]
  },
  {
   "cell_type": "markdown",
   "metadata": {},
   "source": [
    "Holistically, the plot shows that their is a weak, but positive, relationship between the two variables, meaning that people in happier countries may generally be very satisfied with their freedom to make their own choices. Countries in Sub-Saharan Africa are again in the bottom left of the graph, indicating that people in these countries are the least satisfied with their freedom to make decisions in their life. Countries in Western Europe and Near East also have show the highest scores in this area.\n",
    "\n",
    "__The plot below shows the relationship between \"perceptions of corruption\" scores and \"confidence in national government\" scores color-coordinated by regions.__"
   ]
  },
  {
   "cell_type": "code",
   "execution_count": null,
   "metadata": {},
   "outputs": [],
   "source": [
    "sns.lmplot(x='Perceptions of corruption',y='Confidence in national government',hue='Region',data=happy_2017_final,fit_reg=False,scatter_kws={'alpha':1,'s':20})\n",
    "plt.title('Perceptions of corruption vs Confidence in national government')\n",
    "plt.show()"
   ]
  },
  {
   "cell_type": "markdown",
   "metadata": {},
   "source": [
    "The plot shows a negative relationship, with a \"fan-ing in\" behavior, between the two variables. This should come as no surprise, as it makes sense that people who perceive corruption throughout their government would have lower confidence in them. Interestingly, there are few countries that have low scores in \"perceptions of corruption\" and high scores \"confidence in national government\". Here, we can see that Latin American and Eastern European countries show high scores in \"perceptions of corruption\" and low scores in \"confidence in national government. It is also interestingly to notice that most Sub-Saharan African countries have high scores in \"perceptions of corruption\" but vary relatively widely in \"confidence in national government\" scores."
   ]
  },
  {
   "cell_type": "markdown",
   "metadata": {},
   "source": [
    "##### <span style=\"color:darkblue\">Summary Statistics and Distributions of Variables in 2017</span> #####\n",
    "\n",
    "What are the typical values for each variable in 2017? Are the distributions skewed in any way?"
   ]
  },
  {
   "cell_type": "code",
   "execution_count": null,
   "metadata": {
    "scrolled": true
   },
   "outputs": [],
   "source": [
    "happy_2017_final.describe()"
   ]
  },
  {
   "cell_type": "code",
   "execution_count": null,
   "metadata": {
    "scrolled": false
   },
   "outputs": [],
   "source": [
    "fig,axes=plt.subplots(nrows=5,ncols=2,figsize=(20,30))\n",
    "\n",
    "happy_2017_final[\"Life Ladder\"].plot(kind=\"hist\",bins=20,ax=axes[0,0],title=\"Distribution of Life Ladder\")\n",
    "happy_2017_final[\"Log GDP per capita\"].plot(kind=\"hist\",bins=20,ax=axes[0,1],title=\"Distribution of Log GDP per capita\")\n",
    "happy_2017_final[\"Social support\"].plot(kind=\"hist\",bins=20,ax=axes[1,0],title=\"Distribution of Social support\")\n",
    "happy_2017_final[\"Healthy life expectancy at birth\"].plot(kind=\"hist\",bins=20,ax=axes[1,1],title=\"Distribution of Healthy life expectancy at birth\")\n",
    "happy_2017_final[\"Freedom to make life choices\"].plot(kind=\"hist\",bins=20,ax=axes[2,0],title=\"Distribution of Freedom to make life choices\")\n",
    "happy_2017_final[\"Generosity\"].plot(kind=\"hist\",bins=20,ax=axes[2,1],title=\"Distribution of Generosity\")\n",
    "happy_2017_final[\"Perceptions of corruption\"].plot(kind=\"hist\",bins=20,ax=axes[3,0],title=\"Distribution of Perceptions of corruption\")\n",
    "happy_2017_final[\"Positive affect\"].plot(kind=\"hist\",bins=20,ax=axes[3,1],title=\"Distribution of Positive affect\")\n",
    "happy_2017_final[\"Negative affect\"].plot(kind=\"hist\",bins=20,ax=axes[4,0],title=\"Distribution of Negative affect\")\n",
    "happy_2017_final[\"Confidence in national government\"].plot(kind=\"hist\",bins=20,ax=axes[4,1],title=\"Frequency of Confidence in national government\")\n",
    "plt.show()"
   ]
  },
  {
   "cell_type": "markdown",
   "metadata": {},
   "source": [
    "Social support is extremely left skewed, along with Healthy life expectancy at birth, Freedom to make life choices, and Perceptions of corruption. Generosity is extremely right skewed, along with Negative affect. The distribution of Life Ladder is relatively normal.\n",
    "\n",
    "Although most countries have high scores for Social Support and Healthy life expectancy, the typical value for Life Ladder is close to the middle, 5.501920, leading us to believe that they can't be the only variables that affect happiness.\n",
    "\n",
    "### <span style=\"color:darkblue\">Unusual Features & Outliers</span> ###"
   ]
  },
  {
   "cell_type": "code",
   "execution_count": null,
   "metadata": {},
   "outputs": [],
   "source": [
    "fig,axes=plt.subplots(nrows=5,ncols=2,figsize=(20,30))\n",
    "\n",
    "happy_2017_final[\"Life Ladder\"].plot(kind=\"box\",ax=axes[0,0])\n",
    "happy_2017_final[\"Log GDP per capita\"].plot(kind=\"box\",ax=axes[0,1])\n",
    "happy_2017_final[\"Social support\"].plot(kind=\"box\",ax=axes[1,0])\n",
    "happy_2017_final[\"Healthy life expectancy at birth\"].plot(kind=\"box\",ax=axes[1,1])\n",
    "happy_2017_final[\"Freedom to make life choices\"].plot(kind=\"box\",ax=axes[2,0])\n",
    "happy_2017_final[\"Generosity\"].plot(kind=\"box\",ax=axes[2,1])\n",
    "happy_2017_final[\"Perceptions of corruption\"].plot(kind=\"box\",ax=axes[3,0])\n",
    "happy_2017_final[\"Positive affect\"].plot(kind=\"box\",ax=axes[3,1])\n",
    "happy_2017_final[\"Negative affect\"].plot(kind=\"box\",ax=axes[4,0])\n",
    "happy_2017_final[\"Confidence in national government\"].plot(kind=\"box\",ax=axes[4,1])\n",
    "fig.suptitle('Distributions and Outliers of Variables',size=20)\n",
    "fig.subplots_adjust(top=.965)\n",
    "plt.show()"
   ]
  },
  {
   "cell_type": "markdown",
   "metadata": {},
   "source": [
    "__Social support__"
   ]
  },
  {
   "cell_type": "code",
   "execution_count": null,
   "metadata": {},
   "outputs": [],
   "source": [
    "IQR=happy_2017_final[\"Social support\"].describe()[6]-happy_2017_final[\"Social support\"].describe()[4]\n",
    "happy_2017_final[happy_2017_final[\"Social support\"]<happy_2017_final[\"Social support\"].describe()[4]-1.5*IQR]"
   ]
  },
  {
   "cell_type": "markdown",
   "metadata": {},
   "source": [
    "- _The Central African Republic_ has many human rights issues, such as extrajudicial executions, torture, beatings, mob violence, female genital mutilation, human trafficking, and marriage of underage girls, which could contribute to its low social support score.\n",
    "\n",
    "\n",
    "- _Benin_ faces many issues, such as low literacy rates, lack of clean water, crop failure, environmental destruction, along with corruption and poor governance, which could contribute to its low social support score.\n",
    "\n",
    "__Freedom to make life choices__"
   ]
  },
  {
   "cell_type": "code",
   "execution_count": null,
   "metadata": {},
   "outputs": [],
   "source": [
    "IQR=happy_2017_final[\"Freedom to make life choices\"].describe()[6]-happy_2017_final[\"Freedom to make life choices\"].describe()[4]\n",
    "happy_2017_final[happy_2017_final[\"Freedom to make life choices\"]<happy_2017_final[\"Freedom to make life choices\"].describe()[4]-1.5*IQR]"
   ]
  },
  {
   "cell_type": "markdown",
   "metadata": {},
   "source": [
    "- _Afghanistan_ has a history of human rights abuses and violations committed by its security forces and intelligence agency, possibly explaining its low ranking.\n",
    "\n",
    "\n",
    "- In _Algeria,_ elected officials have little say in government matters; rather, unelected civilian and military individuals rule the country and get to decide things like who is president.\n",
    "\n",
    "\n",
    "- _Greece_'s long-term debt crisis and economic problems have likely made its population feel uncertain and helpless about its future.\n",
    "\n",
    "__Generosity__"
   ]
  },
  {
   "cell_type": "code",
   "execution_count": null,
   "metadata": {},
   "outputs": [],
   "source": [
    "IQR=happy_2017_final[\"Generosity\"].describe()[6]-happy_2017_final[\"Generosity\"].describe()[4]\n",
    "happy_2017_final[happy_2017_final[\"Generosity\"]>happy_2017_final[\"Generosity\"].describe()[6]+1.5*IQR]"
   ]
  },
  {
   "cell_type": "markdown",
   "metadata": {},
   "source": [
    "- _Myanmar_ is ranked highest in generosity, likely because 87.9% of the population practices Theravāda Buddhism. This religion encourages its followers to donate money to those living a monastery life, and small, frequent acts of giving are normal.\n",
    "\n",
    "\n",
    "- _Indonesia_ is ranked second highest in generosity, probably because 87.2% of the population practice Islam. This religion also encourages its followers to donate money, a practice called infaq.\n",
    "\n",
    "__Perceptions of corruption__"
   ]
  },
  {
   "cell_type": "code",
   "execution_count": null,
   "metadata": {},
   "outputs": [],
   "source": [
    "IQR=happy_2017_final[\"Perceptions of corruption\"].describe()[6]-happy_2017_final[\"Perceptions of corruption\"].describe()[4]\n",
    "happy_2017_final[happy_2017_final[\"Perceptions of corruption\"]<happy_2017_final[\"Perceptions of corruption\"].describe()[4]-1.5*IQR]"
   ]
  },
  {
   "cell_type": "markdown",
   "metadata": {},
   "source": [
    "- _Canada_, _Denmark_, _Finland_, _Ireland_, _Luxembourg_, the _Netherlands_, _New Zealand_, _Norway_, _Sweden_, and _Switzerland_ all have socialist policies to some degree that benefit their populations. These countries also tend to be be quite happy, explaining their low perceptions of corruption.\n",
    "- _Rwanda_ has strong and effective institutions, such as government, civil society, and media, that probably allow its population to believe it has low corruption.\n",
    "- _Singapore_ has an agency called the Singapore Corrupt Practices Investigation Bureau that investigates and prosecutes corruption in the public and private sectors, which likely allows its population to believe that there is low corruption.\n",
    "\n",
    "__Negative affect__"
   ]
  },
  {
   "cell_type": "code",
   "execution_count": null,
   "metadata": {},
   "outputs": [],
   "source": [
    "IQR=happy_2017_final[\"Negative affect\"].describe()[6]-happy_2017_final[\"Negative affect\"].describe()[4]\n",
    "happy_2017_final[happy_2017_final[\"Negative affect\"]>happy_2017_final[\"Negative affect\"].describe()[6]+1.5*IQR]"
   ]
  },
  {
   "cell_type": "markdown",
   "metadata": {},
   "source": [
    "- _Chad_ faces many issues, such as poverty, corruption, political violence, recurrent attempted coup d'état, and violent conflicts over land. Some social issues include the erosion of long-standing community culture and criminalization of same-sex sexual activities. All of these likely contribute to its high Negative affect score.\n",
    "- _Iraq_ has one of the most corrupt governments and is one of the most politically unstable countries in the world, with a history of serious human rights issues, all of which probably affect its Negative affect score negatively.\n",
    "- The _Central African Republic_ has many human rights issues, such as extrajudicial executions, torture, beatings, mob violence, female genital mutilation, human trafficking, and marriage of underage girls, which could contribute to its high Negative affect score."
   ]
  },
  {
   "cell_type": "markdown",
   "metadata": {},
   "source": [
    "### <span style=\"color:darkblue\">Potential Relationships</span> ###\n",
    "\n",
    "##### <span style=\"color:darkblue\">Life Ladder and Social Support</span> #####\n",
    "\n",
    "How does Life Ladder differ with high and low Social Support scores?"
   ]
  },
  {
   "cell_type": "code",
   "execution_count": null,
   "metadata": {},
   "outputs": [],
   "source": [
    "happy_2017_social=happy_2017_final.sort_values(by=[\"Social support\"]) # sorted from least to most Social Support\n",
    "social_bottom=happy_2017_social.iloc[:15,]\n",
    "social_top=happy_2017_social.iloc[-15:,]\n",
    "plt.figure(figsize=(10,5))\n",
    "plt.boxplot([social_bottom[\"Life Ladder\"],social_top[\"Life Ladder\"]],widths=0.5)\n",
    "plt.xticks([1,2],[\"Bottom 20 Countries\",\"Top 20 Countries\"])\n",
    "plt.ylabel(\"Life Ladder\")\n",
    "plt.xlabel(\"Social Support\")\n",
    "plt.title(\"Life Ladder Comparison for Countries Grouped By Social Support\")\n",
    "plt.show()"
   ]
  },
  {
   "cell_type": "code",
   "execution_count": null,
   "metadata": {
    "scrolled": true
   },
   "outputs": [],
   "source": [
    "social_bottom[[\"Life Ladder\",\"Social support\"]].describe()"
   ]
  },
  {
   "cell_type": "code",
   "execution_count": null,
   "metadata": {},
   "outputs": [],
   "source": [
    "social_top[[\"Life Ladder\",\"Social support\"]].describe()"
   ]
  },
  {
   "cell_type": "markdown",
   "metadata": {},
   "source": [
    "Ranked by Social support, the bottom 20 countries have Social support scores ranging from 0.319589 to 0.646985 and Life Ladder scores ranging from 2.661718 to 5.312483. The top 20 countries have Social support scores ranging from 0.933749 to 0.966753 and Life Ladder scores ranging from 5.096902 to 7.788252.\n",
    "\n",
    "Interestingly, both subsets have about the same range in Life Ladder scores (bottom 20 = 2.650765, top 20 = 2.69135), while their range of Social support scores differ greatly (bottom 20 = 0.327396, top 20 = 0.033004)."
   ]
  },
  {
   "cell_type": "markdown",
   "metadata": {},
   "source": [
    "### <span style=\"color:darkblue\">Exploratory analysis of the top and bottom ten countries according to different variables</span> ###\n",
    "\n",
    "Now we will move on to looking at top ten and bottom ten countries for different variables."
   ]
  },
  {
   "cell_type": "code",
   "execution_count": 24,
   "metadata": {},
   "outputs": [],
   "source": [
    "happy_2017_final.rename(columns={'Country name':'country_name','Life Ladder':'Ladder','Log GDP per capita':'log_gdp_per_cap','Social support':'Social_Support','Healthy life expectancy at birth':'life_exp','Freedom to make life choices':'freedom_make_life_choices','Perceptions of corruption':'perceived_corruption','Positive affect':'pos_aff','Negative affect':'neg_aff','Confidence in national government':'conf_in_gov','Democratic Quality':'dem_qual'},inplace=True)"
   ]
  },
  {
   "cell_type": "code",
   "execution_count": 25,
   "metadata": {
    "scrolled": true
   },
   "outputs": [
    {
     "ename": "KeyError",
     "evalue": "'country_name'",
     "output_type": "error",
     "traceback": [
      "\u001b[0;31m---------------------------------------------------------------------------\u001b[0m",
      "\u001b[0;31mKeyError\u001b[0m                                  Traceback (most recent call last)",
      "\u001b[0;32m~/anaconda3/lib/python3.7/site-packages/pandas/core/indexes/base.py\u001b[0m in \u001b[0;36mget_loc\u001b[0;34m(self, key, method, tolerance)\u001b[0m\n\u001b[1;32m   2656\u001b[0m             \u001b[0;32mtry\u001b[0m\u001b[0;34m:\u001b[0m\u001b[0;34m\u001b[0m\u001b[0;34m\u001b[0m\u001b[0m\n\u001b[0;32m-> 2657\u001b[0;31m                 \u001b[0;32mreturn\u001b[0m \u001b[0mself\u001b[0m\u001b[0;34m.\u001b[0m\u001b[0m_engine\u001b[0m\u001b[0;34m.\u001b[0m\u001b[0mget_loc\u001b[0m\u001b[0;34m(\u001b[0m\u001b[0mkey\u001b[0m\u001b[0;34m)\u001b[0m\u001b[0;34m\u001b[0m\u001b[0;34m\u001b[0m\u001b[0m\n\u001b[0m\u001b[1;32m   2658\u001b[0m             \u001b[0;32mexcept\u001b[0m \u001b[0mKeyError\u001b[0m\u001b[0;34m:\u001b[0m\u001b[0;34m\u001b[0m\u001b[0;34m\u001b[0m\u001b[0m\n",
      "\u001b[0;32mpandas/_libs/index.pyx\u001b[0m in \u001b[0;36mpandas._libs.index.IndexEngine.get_loc\u001b[0;34m()\u001b[0m\n",
      "\u001b[0;32mpandas/_libs/index.pyx\u001b[0m in \u001b[0;36mpandas._libs.index.IndexEngine.get_loc\u001b[0;34m()\u001b[0m\n",
      "\u001b[0;32mpandas/_libs/hashtable_class_helper.pxi\u001b[0m in \u001b[0;36mpandas._libs.hashtable.PyObjectHashTable.get_item\u001b[0;34m()\u001b[0m\n",
      "\u001b[0;32mpandas/_libs/hashtable_class_helper.pxi\u001b[0m in \u001b[0;36mpandas._libs.hashtable.PyObjectHashTable.get_item\u001b[0;34m()\u001b[0m\n",
      "\u001b[0;31mKeyError\u001b[0m: 'country_name'",
      "\nDuring handling of the above exception, another exception occurred:\n",
      "\u001b[0;31mKeyError\u001b[0m                                  Traceback (most recent call last)",
      "\u001b[0;32m<ipython-input-25-d3e46c7564cd>\u001b[0m in \u001b[0;36m<module>\u001b[0;34m\u001b[0m\n\u001b[0;32m----> 1\u001b[0;31m \u001b[0mhappy_2017_final\u001b[0m \u001b[0;34m=\u001b[0m \u001b[0mhappy_2017_final\u001b[0m\u001b[0;34m.\u001b[0m\u001b[0mset_index\u001b[0m\u001b[0;34m(\u001b[0m\u001b[0;34m'country_name'\u001b[0m\u001b[0;34m)\u001b[0m\u001b[0;34m\u001b[0m\u001b[0;34m\u001b[0m\u001b[0m\n\u001b[0m",
      "\u001b[0;32m~/anaconda3/lib/python3.7/site-packages/pandas/core/frame.py\u001b[0m in \u001b[0;36mset_index\u001b[0;34m(self, keys, drop, append, inplace, verify_integrity)\u001b[0m\n\u001b[1;32m   4176\u001b[0m                 \u001b[0mnames\u001b[0m\u001b[0;34m.\u001b[0m\u001b[0mappend\u001b[0m\u001b[0;34m(\u001b[0m\u001b[0;32mNone\u001b[0m\u001b[0;34m)\u001b[0m\u001b[0;34m\u001b[0m\u001b[0;34m\u001b[0m\u001b[0m\n\u001b[1;32m   4177\u001b[0m             \u001b[0;32melse\u001b[0m\u001b[0;34m:\u001b[0m\u001b[0;34m\u001b[0m\u001b[0;34m\u001b[0m\u001b[0m\n\u001b[0;32m-> 4178\u001b[0;31m                 \u001b[0mlevel\u001b[0m \u001b[0;34m=\u001b[0m \u001b[0mframe\u001b[0m\u001b[0;34m[\u001b[0m\u001b[0mcol\u001b[0m\u001b[0;34m]\u001b[0m\u001b[0;34m.\u001b[0m\u001b[0m_values\u001b[0m\u001b[0;34m\u001b[0m\u001b[0;34m\u001b[0m\u001b[0m\n\u001b[0m\u001b[1;32m   4179\u001b[0m                 \u001b[0mnames\u001b[0m\u001b[0;34m.\u001b[0m\u001b[0mappend\u001b[0m\u001b[0;34m(\u001b[0m\u001b[0mcol\u001b[0m\u001b[0;34m)\u001b[0m\u001b[0;34m\u001b[0m\u001b[0;34m\u001b[0m\u001b[0m\n\u001b[1;32m   4180\u001b[0m                 \u001b[0;32mif\u001b[0m \u001b[0mdrop\u001b[0m\u001b[0;34m:\u001b[0m\u001b[0;34m\u001b[0m\u001b[0;34m\u001b[0m\u001b[0m\n",
      "\u001b[0;32m~/anaconda3/lib/python3.7/site-packages/pandas/core/frame.py\u001b[0m in \u001b[0;36m__getitem__\u001b[0;34m(self, key)\u001b[0m\n\u001b[1;32m   2925\u001b[0m             \u001b[0;32mif\u001b[0m \u001b[0mself\u001b[0m\u001b[0;34m.\u001b[0m\u001b[0mcolumns\u001b[0m\u001b[0;34m.\u001b[0m\u001b[0mnlevels\u001b[0m \u001b[0;34m>\u001b[0m \u001b[0;36m1\u001b[0m\u001b[0;34m:\u001b[0m\u001b[0;34m\u001b[0m\u001b[0;34m\u001b[0m\u001b[0m\n\u001b[1;32m   2926\u001b[0m                 \u001b[0;32mreturn\u001b[0m \u001b[0mself\u001b[0m\u001b[0;34m.\u001b[0m\u001b[0m_getitem_multilevel\u001b[0m\u001b[0;34m(\u001b[0m\u001b[0mkey\u001b[0m\u001b[0;34m)\u001b[0m\u001b[0;34m\u001b[0m\u001b[0;34m\u001b[0m\u001b[0m\n\u001b[0;32m-> 2927\u001b[0;31m             \u001b[0mindexer\u001b[0m \u001b[0;34m=\u001b[0m \u001b[0mself\u001b[0m\u001b[0;34m.\u001b[0m\u001b[0mcolumns\u001b[0m\u001b[0;34m.\u001b[0m\u001b[0mget_loc\u001b[0m\u001b[0;34m(\u001b[0m\u001b[0mkey\u001b[0m\u001b[0;34m)\u001b[0m\u001b[0;34m\u001b[0m\u001b[0;34m\u001b[0m\u001b[0m\n\u001b[0m\u001b[1;32m   2928\u001b[0m             \u001b[0;32mif\u001b[0m \u001b[0mis_integer\u001b[0m\u001b[0;34m(\u001b[0m\u001b[0mindexer\u001b[0m\u001b[0;34m)\u001b[0m\u001b[0;34m:\u001b[0m\u001b[0;34m\u001b[0m\u001b[0;34m\u001b[0m\u001b[0m\n\u001b[1;32m   2929\u001b[0m                 \u001b[0mindexer\u001b[0m \u001b[0;34m=\u001b[0m \u001b[0;34m[\u001b[0m\u001b[0mindexer\u001b[0m\u001b[0;34m]\u001b[0m\u001b[0;34m\u001b[0m\u001b[0;34m\u001b[0m\u001b[0m\n",
      "\u001b[0;32m~/anaconda3/lib/python3.7/site-packages/pandas/core/indexes/base.py\u001b[0m in \u001b[0;36mget_loc\u001b[0;34m(self, key, method, tolerance)\u001b[0m\n\u001b[1;32m   2657\u001b[0m                 \u001b[0;32mreturn\u001b[0m \u001b[0mself\u001b[0m\u001b[0;34m.\u001b[0m\u001b[0m_engine\u001b[0m\u001b[0;34m.\u001b[0m\u001b[0mget_loc\u001b[0m\u001b[0;34m(\u001b[0m\u001b[0mkey\u001b[0m\u001b[0;34m)\u001b[0m\u001b[0;34m\u001b[0m\u001b[0;34m\u001b[0m\u001b[0m\n\u001b[1;32m   2658\u001b[0m             \u001b[0;32mexcept\u001b[0m \u001b[0mKeyError\u001b[0m\u001b[0;34m:\u001b[0m\u001b[0;34m\u001b[0m\u001b[0;34m\u001b[0m\u001b[0m\n\u001b[0;32m-> 2659\u001b[0;31m                 \u001b[0;32mreturn\u001b[0m \u001b[0mself\u001b[0m\u001b[0;34m.\u001b[0m\u001b[0m_engine\u001b[0m\u001b[0;34m.\u001b[0m\u001b[0mget_loc\u001b[0m\u001b[0;34m(\u001b[0m\u001b[0mself\u001b[0m\u001b[0;34m.\u001b[0m\u001b[0m_maybe_cast_indexer\u001b[0m\u001b[0;34m(\u001b[0m\u001b[0mkey\u001b[0m\u001b[0;34m)\u001b[0m\u001b[0;34m)\u001b[0m\u001b[0;34m\u001b[0m\u001b[0;34m\u001b[0m\u001b[0m\n\u001b[0m\u001b[1;32m   2660\u001b[0m         \u001b[0mindexer\u001b[0m \u001b[0;34m=\u001b[0m \u001b[0mself\u001b[0m\u001b[0;34m.\u001b[0m\u001b[0mget_indexer\u001b[0m\u001b[0;34m(\u001b[0m\u001b[0;34m[\u001b[0m\u001b[0mkey\u001b[0m\u001b[0;34m]\u001b[0m\u001b[0;34m,\u001b[0m \u001b[0mmethod\u001b[0m\u001b[0;34m=\u001b[0m\u001b[0mmethod\u001b[0m\u001b[0;34m,\u001b[0m \u001b[0mtolerance\u001b[0m\u001b[0;34m=\u001b[0m\u001b[0mtolerance\u001b[0m\u001b[0;34m)\u001b[0m\u001b[0;34m\u001b[0m\u001b[0;34m\u001b[0m\u001b[0m\n\u001b[1;32m   2661\u001b[0m         \u001b[0;32mif\u001b[0m \u001b[0mindexer\u001b[0m\u001b[0;34m.\u001b[0m\u001b[0mndim\u001b[0m \u001b[0;34m>\u001b[0m \u001b[0;36m1\u001b[0m \u001b[0;32mor\u001b[0m \u001b[0mindexer\u001b[0m\u001b[0;34m.\u001b[0m\u001b[0msize\u001b[0m \u001b[0;34m>\u001b[0m \u001b[0;36m1\u001b[0m\u001b[0;34m:\u001b[0m\u001b[0;34m\u001b[0m\u001b[0;34m\u001b[0m\u001b[0m\n",
      "\u001b[0;32mpandas/_libs/index.pyx\u001b[0m in \u001b[0;36mpandas._libs.index.IndexEngine.get_loc\u001b[0;34m()\u001b[0m\n",
      "\u001b[0;32mpandas/_libs/index.pyx\u001b[0m in \u001b[0;36mpandas._libs.index.IndexEngine.get_loc\u001b[0;34m()\u001b[0m\n",
      "\u001b[0;32mpandas/_libs/hashtable_class_helper.pxi\u001b[0m in \u001b[0;36mpandas._libs.hashtable.PyObjectHashTable.get_item\u001b[0;34m()\u001b[0m\n",
      "\u001b[0;32mpandas/_libs/hashtable_class_helper.pxi\u001b[0m in \u001b[0;36mpandas._libs.hashtable.PyObjectHashTable.get_item\u001b[0;34m()\u001b[0m\n",
      "\u001b[0;31mKeyError\u001b[0m: 'country_name'"
     ]
    }
   ],
   "source": [
    "happy_2017_final = happy_2017_final.set_index('country_name')"
   ]
  },
  {
   "cell_type": "markdown",
   "metadata": {},
   "source": [
    "__First we look at the top ten and bottom ten countries according to gdp per capita.__\n",
    "\n",
    "The first graph shows the life ladder scores for the top ten countries.\n",
    "\n",
    "The second graph shows the life ladder scores for the bottom ten countries."
   ]
  },
  {
   "cell_type": "code",
   "execution_count": 30,
   "metadata": {},
   "outputs": [],
   "source": [
    "rich = happy_2017_final.sort_values(by=['log_gdp_per_cap'], ascending=False)\n",
    "richest = rich.head(10)\n",
    "\n",
    "poor = happy_2017_final.sort_values(by=['log_gdp_per_cap'], ascending=True)\n",
    "poorest = poor.head(10)"
   ]
  },
  {
   "cell_type": "code",
   "execution_count": 31,
   "metadata": {
    "scrolled": true
   },
   "outputs": [
    {
     "data": {
      "image/png": "[encoded data removed]",
      "text/plain": [
       "<Figure size 432x288 with 1 Axes>"
      ]
     },
     "metadata": {
      "needs_background": "light"
     },
     "output_type": "display_data"
    },
    {
     "data": {
      "image/png": "[encoded data removed]",
      "text/plain": [
       "<Figure size 432x288 with 1 Axes>"
      ]
     },
     "metadata": {
      "needs_background": "light"
     },
     "output_type": "display_data"
    }
   ],
   "source": [
    "richest.Ladder.plot.bar()\n",
    "plt.ylabel('Life Ladder')\n",
    "plt.title('Top 10 countries according to GDP per capita')\n",
    "plt.ylim(0,9)\n",
    "plt.show()\n",
    "\n",
    "poorest.Ladder.plot.bar()\n",
    "plt.ylabel('Life Ladder')\n",
    "plt.title('Bottom 10 countries according to GDP per capita')\n",
    "plt.ylim(0,9)\n",
    "plt.show()"
   ]
  },
  {
   "cell_type": "markdown",
   "metadata": {},
   "source": [
    "Next, we made side-by-side bar graphs for the \"richest\" and \"poorest\" countries that show their levels of social support, perceived corruption, freedom to make life choices, and confidence in national government. "
   ]
  },
  {
   "cell_type": "code",
   "execution_count": 48,
   "metadata": {
    "scrolled": true
   },
   "outputs": [
    {
     "data": {
      "image/png": "[encoded data removed]",
      "text/plain": [
       "<Figure size 432x288 with 1 Axes>"
      ]
     },
     "metadata": {
      "needs_background": "light"
     },
     "output_type": "display_data"
    },
    {
     "data": {
      "image/png": "[encoded data removed]",
      "text/plain": [
       "<Figure size 432x288 with 1 Axes>"
      ]
     },
     "metadata": {
      "needs_background": "light"
     },
     "output_type": "display_data"
    }
   ],
   "source": [
    "richest[['Social_Support','perceived_corruption','freedom_make_life_choices','conf_in_gov']].plot.bar()\n",
    "plt.legend(loc='upper right', bbox_to_anchor = (1.6,1))\n",
    "plt.title('Top ten countries according to GDP per capita')\n",
    "plt.show()\n",
    "\n",
    "poorest[['Social_Support','perceived_corruption','freedom_make_life_choices','conf_in_gov']].plot.bar()\n",
    "plt.legend(loc='upper right', bbox_to_anchor = (1.6,1))\n",
    "plt.ylim(0,1)\n",
    "plt.title('Bottom ten countries according to GDP per capita')\n",
    "plt.show()"
   ]
  },
  {
   "cell_type": "markdown",
   "metadata": {},
   "source": [
    "The \"richest\" countries all have relatively high levels for social support and freedom to make life choices. The levels of perceived corruption and confidence in national government, however, are much more variable.\n",
    "\n",
    "The \"poorest\" countries have gernally high levels of perceived corruption and lower than average levels of social support and freedom to make life decisions. These countires are also among the saddest in terms of their life ladder scores. This could indicate that a certain level of economic stability/basic income is required in order to be \"happy\". This is similar to the idea that you must fulfill your basic needs before you can reach your highest happiness potential."
   ]
  },
  {
   "cell_type": "markdown",
   "metadata": {},
   "source": [
    "__Now we will look at the top 10 and bottom ten countries in terms of life ladder (happiness) score.__"
   ]
  },
  {
   "cell_type": "code",
   "execution_count": 44,
   "metadata": {},
   "outputs": [
    {
     "data": {
      "image/png": "[encoded data removed]",
      "text/plain": [
       "<Figure size 432x288 with 1 Axes>"
      ]
     },
     "metadata": {
      "needs_background": "light"
     },
     "output_type": "display_data"
    },
    {
     "data": {
      "image/png": "[encoded data removed]",
      "text/plain": [
       "<Figure size 432x288 with 1 Axes>"
      ]
     },
     "metadata": {
      "needs_background": "light"
     },
     "output_type": "display_data"
    }
   ],
   "source": [
    "hap = happy_2017_final.sort_values(by=['Ladder'], ascending=False)\n",
    "happiest = hap.head(10)\n",
    "happiest.Ladder.plot.bar()\n",
    "plt.title('Top ten countries according to life ladder')\n",
    "plt.ylabel('Life Ladder')\n",
    "plt.ylim(0,9)\n",
    "plt.show()\n",
    "\n",
    "sad =  happy_2017_final.sort_values(by=['Ladder'], ascending=True)\n",
    "saddest = sad.head(10)\n",
    "saddest.Ladder.plot.bar()\n",
    "plt.title('Bottom ten countries according to life ladder')\n",
    "plt.ylabel('Life Ladder')\n",
    "plt.ylim(0,9)\n",
    "plt.show()"
   ]
  },
  {
   "cell_type": "markdown",
   "metadata": {},
   "source": [
    "Then, we made side-by-side bar graphs for the \"happiest\" and \"saddest\" countries that show their levels of social support, perceived corruption, freedom to make life choices, and confidence in national government. "
   ]
  },
  {
   "cell_type": "code",
   "execution_count": 47,
   "metadata": {},
   "outputs": [
    {
     "data": {
      "image/png": "[encoded data removed]",
      "text/plain": [
       "<Figure size 432x288 with 1 Axes>"
      ]
     },
     "metadata": {
      "needs_background": "light"
     },
     "output_type": "display_data"
    },
    {
     "data": {
      "image/png": "[encoded data removed]",
      "text/plain": [
       "<Figure size 432x288 with 1 Axes>"
      ]
     },
     "metadata": {
      "needs_background": "light"
     },
     "output_type": "display_data"
    }
   ],
   "source": [
    "happiest[['Social_Support','perceived_corruption','freedom_make_life_choices','conf_in_gov']].plot.bar()\n",
    "plt.legend(loc='upper right', bbox_to_anchor = (1.6,1))\n",
    "plt.title('Top ten countries according to life ladder')\n",
    "plt.show()\n",
    "\n",
    "saddest[['Social_Support','perceived_corruption','freedom_make_life_choices','conf_in_gov']].plot.bar()\n",
    "plt.legend(loc='upper right', bbox_to_anchor = (1.6,1))\n",
    "plt.title('Bottom ten countries according to life ladder')\n",
    "plt.show()"
   ]
  },
  {
   "cell_type": "markdown",
   "metadata": {},
   "source": [
    "The happiest countries all have very high social support and freedom to make life choices. The INTERESTING part of that graph is that these countries have quite variable levels of perceived corruption and confidence in their national government. \n",
    "\n",
    "Even if a country has low confidence in their national government and high levels of perceived corruption (like Iceland and Isreal), high levels of social support and freedom to make life choices may be able to overpower the negative and produce high levels of happiness.\n",
    "\n",
    "In contrast to the happiest countires, the saddest countries all have lower than average levels of social support and freedom to make life choices. These variables seem important, so it makes sense that these ten countries are so sad."
   ]
  },
  {
   "cell_type": "markdown",
   "metadata": {},
   "source": [
    "### <span style=\"color:darkblue\">Analysis of USA, South Korea, and Hong Kong over time</span> ###\n",
    "\n",
    "Next, we focus on three countires (USA, South Korea, and Hong Kong) and study how their variables changes over time (2006-2018).\n",
    "\n",
    "We study the change in different variables over time in the three countires we selected. Once these plots were created, we attempted to explain the trends in this data in accordance to political and economic events that match could potentially explain the trends.\n",
    "\n",
    "*Note the political/economics events discussed are not proven to be the the cause of any of these trends. The commentary is merely a possible explanation for certain changes in the data in certain years."
   ]
  },
  {
   "cell_type": "code",
   "execution_count": 56,
   "metadata": {},
   "outputs": [],
   "source": [
    "happy_clean = pd.read_csv(\"https://raw.githubusercontent.com/uyc201/stats131finalproject/master/Chapter2OnlineData.csv\")"
   ]
  },
  {
   "cell_type": "code",
   "execution_count": 57,
   "metadata": {},
   "outputs": [],
   "source": [
    "happy_clean=happy_clean.drop(['Standard deviation of ladder by country-year','Standard deviation/Mean of ladder by country-year','gini of household income reported in Gallup, by wp5-year'], axis=1)\n",
    "happy_clean.rename(columns={'Life Ladder':'Ladder','Country name':'name','Log GDP per capita':'log_gdp_per_cap','Social support':'Social_Support','Healthy life expectancy at birth':'life_exp','Freedom to make life choices':'freedom_make_life_choices','Perceptions of corruption':'perceived_corruption','Positive affect':'pos_aff','Negative affect':'neg_aff','Confidence in national government':'conf_in_gov','gini of household income reported in Gallup, by wp5-year':'gini_household_inc'},inplace=True)\n",
    "happy_clean.head()\n",
    "threec = happy_clean[(happy_clean.name == 'South Korea') | (happy_clean.name =='United States') | (happy_clean.name == 'Hong Kong S.A.R. of China')]"
   ]
  },
  {
   "cell_type": "markdown",
   "metadata": {},
   "source": [
    "First, we focus on how life ladder/happiness has changed over time."
   ]
  },
  {
   "cell_type": "code",
   "execution_count": 58,
   "metadata": {},
   "outputs": [
    {
     "data": {
      "image/png": "[encoded data removed]",
      "text/plain": [
       "<Figure size 432x288 with 1 Axes>"
      ]
     },
     "metadata": {
      "needs_background": "light"
     },
     "output_type": "display_data"
    }
   ],
   "source": [
    "#interesting that happiness didnt dip in the USA during the financial crash of 2008, but it IS dipping now\n",
    "overtime = threec.pivot_table(columns='name',index='Year',values='Ladder')\n",
    "overtime.columns = ['Hong_Kong','South_Korea','USA']\n",
    "overtime.Hong_Kong = overtime.Hong_Kong.ffill()\n",
    "overtime\n",
    "#HK had missing data in 2007, 2013, and 2018 so i used forwardfill\n",
    "overtime.plot()\n",
    "plt.ylabel('Life Ladder Score')\n",
    "plt.xlabel('Year')\n",
    "plt.title('Happiness in USA, South Korea, and Hong Kong over time')\n",
    "plt.axvline(x=2017, color='black', ls='--')\n",
    "plt.show()"
   ]
  },
  {
   "cell_type": "markdown",
   "metadata": {},
   "source": [
    "We suspect the large peak in the happiness value for South Korea is due to the economic boom they saw in 2010. Interestingly, although the US faced a huge economic recession in 2008, we do not see a similarly negative dip in happiness during that year. We wanted to study Hong Kong over time in order to view the trends in the data leading up to the current political crisis taking place with the protestors; Hong Kong has maintained a low level of happiness throughout the years.\n",
    "\n",
    "Now we look at how social support changes over time."
   ]
  },
  {
   "cell_type": "code",
   "execution_count": 59,
   "metadata": {},
   "outputs": [
    {
     "data": {
      "image/png": "[encoded data removed]",
      "text/plain": [
       "<Figure size 432x288 with 1 Axes>"
      ]
     },
     "metadata": {
      "needs_background": "light"
     },
     "output_type": "display_data"
    }
   ],
   "source": [
    "social_support = happy_clean[(happy_clean.name == 'South Korea') | (happy_clean.name =='United States')| (happy_clean.name == 'Hong Kong S.A.R. of China')]\n",
    "social_support\n",
    "\n",
    "soc = threec.pivot_table(columns='name',index='Year',values='Social_Support')\n",
    "soc\n",
    "soc.columns = ['Hong_Kong','South_Korea','USA']\n",
    "soc\n",
    "\n",
    "soc.Hong_Kong = soc.Hong_Kong.ffill()\n",
    "soc.USA = soc.USA.ffill()\n",
    "soc\n",
    "soc.plot()\n",
    "plt.ylabel('Year')\n",
    "plt.xlabel('Social Support')\n",
    "plt.title('Social Support in USA, South Korea, and Hong Kong over time')\n",
    "plt.axvline(x=2017, color='black', ls='--')\n",
    "plt.show()\n",
    "\n",
    "#article shows huge economic book in korea in 2011"
   ]
  },
  {
   "cell_type": "markdown",
   "metadata": {},
   "source": [
    "Social support varies somewhat year to year, but not by much if you look at the range of the y axis. It seems that all three places have pretty decent social support across time, although, the US leads by a small margin.\n",
    "\n",
    "__Now we look at how gdp per capita changes over time.__"
   ]
  },
  {
   "cell_type": "code",
   "execution_count": 60,
   "metadata": {
    "scrolled": true
   },
   "outputs": [
    {
     "data": {
      "image/png": "[encoded data removed]",
      "text/plain": [
       "<Figure size 432x288 with 1 Axes>"
      ]
     },
     "metadata": {
      "needs_background": "light"
     },
     "output_type": "display_data"
    }
   ],
   "source": [
    "gdp = threec.pivot_table(columns='name',index='Year',values='log_gdp_per_cap')\n",
    "gdp.columns = ['Hong_Kong','South_Korea','USA']\n",
    "gdp.Hong_Kong = gdp.Hong_Kong.ffill()\n",
    "gdp.plot()\n",
    "plt.ylabel('log gdp per capita')\n",
    "plt.xlabel('Year')\n",
    "plt.title('GDP per capita in USA, South Korea, and Hong Kong over time')\n",
    "plt.axvline(x=2017, color='black', ls='--')\n",
    "plt.show()"
   ]
  },
  {
   "cell_type": "markdown",
   "metadata": {},
   "source": [
    "All three countries show a strong postivie trend in log GDP but not in life ladder scores. This could suggest that log gdp is not the main/only factor affecting happiness.\n",
    "\n",
    "__Now we look at how negative affect changes over time.__"
   ]
  },
  {
   "cell_type": "code",
   "execution_count": 61,
   "metadata": {},
   "outputs": [
    {
     "data": {
      "image/png": "[encoded data removed]",
      "text/plain": [
       "<Figure size 432x288 with 1 Axes>"
      ]
     },
     "metadata": {
      "needs_background": "light"
     },
     "output_type": "display_data"
    }
   ],
   "source": [
    "neg = threec.pivot_table(columns='name',index='Year',values='neg_aff')\n",
    "neg.columns = ['Hong_Kong','South_Korea','USA']\n",
    "neg.Hong_Kong = neg.Hong_Kong.ffill()\n",
    "neg.plot()\n",
    "plt.ylabel('neg aff')\n",
    "plt.xlabel('Year')\n",
    "plt.title('neg aff')\n",
    "plt.axvline(x=2017, color='black', ls='--')\n",
    "plt.show()"
   ]
  },
  {
   "cell_type": "markdown",
   "metadata": {},
   "source": [
    "USA: There are no huge peaks or valleys for the USA. We do see a general trend towards more negativity though, which could be a generational change.\n",
    "\n",
    "South Korea: South Korea's economy collapsed in 1997. This financial crisis contiued until 2010 when the economy saw a significant rebound to pre-crisis levels with a 6.1% annual growth rate. This could explain why South Korean's had very negative attitudes (as seen in the graph) until 2010, when things began to turn around fiscally. Then, in 2014-2016, Korea experienced a significant political scandal with the declining satisfaction with and eventual impeachment of president Park Guen-hye due to corruption and abuse of power. The Sewol ferry sinkig accident in 2014 was the beginning of the end of Korean satisfaction with the president.\n",
    "\n",
    "Hong Kong: We see more negative sentiments from around 2013-2016. This could be due to the pro-democracy rallies and referendums taking palce: the people were pushing for more democratic elections, which they were denied. This lack of satisfaction with the government could have lead to the peak in negative sentiment shows in that time period.\n",
    "\n",
    "__Now we look at how positive affect has changed over time.__"
   ]
  },
  {
   "cell_type": "code",
   "execution_count": 62,
   "metadata": {},
   "outputs": [
    {
     "data": {
      "image/png": "[encoded data removed]",
      "text/plain": [
       "<Figure size 432x288 with 1 Axes>"
      ]
     },
     "metadata": {
      "needs_background": "light"
     },
     "output_type": "display_data"
    }
   ],
   "source": [
    "pos = threec.pivot_table(columns='name',index='Year',values='pos_aff')\n",
    "pos.columns = ['Hong_Kong','South_Korea','USA']\n",
    "pos.Hong_Kong = pos.Hong_Kong.ffill()\n",
    "pos\n",
    "pos.plot()\n",
    "plt.ylabel('pos aff')\n",
    "plt.xlabel('Year')\n",
    "plt.title('pos aff')\n",
    "plt.axvline(x=2017, color='black', ls='--')\n",
    "plt.show()"
   ]
  },
  {
   "cell_type": "markdown",
   "metadata": {},
   "source": [
    "USA: We see positive affect steadily declining.\n",
    "\n",
    "South Korea: We see variation in positive affect but little overall change.\n",
    "\n",
    "Hong Kong: We see positive affect steadily decliding since around 2012, probobly due to the protests and political scandals that continue to break out in Hong Kong, even to this day with the current protests. 2012 also happens to be when Leung Chun-ying became executive chief officer of Hong Kong; his administration faced many political controversies, which could have continued to decrease the positive affect in Hong Kong.\n",
    "\n",
    "Generally, though, we see that the USA is a lot more positive than the other two: this could just be a cultural difference.\n",
    "\n",
    "__Now we look at how confidence in national government changes over time.__"
   ]
  },
  {
   "cell_type": "code",
   "execution_count": 63,
   "metadata": {},
   "outputs": [
    {
     "data": {
      "image/png": "[encoded data removed]",
      "text/plain": [
       "<Figure size 432x288 with 1 Axes>"
      ]
     },
     "metadata": {
      "needs_background": "light"
     },
     "output_type": "display_data"
    }
   ],
   "source": [
    "conf = threec.pivot_table(columns='name',index='Year',values='conf_in_gov')\n",
    "conf.columns = ['Hong_Kong','South_Korea','USA']\n",
    "conf.Hong_Kong = conf.Hong_Kong.ffill()\n",
    "conf.plot()\n",
    "plt.ylabel('conf in gov')\n",
    "plt.xlabel('Year')\n",
    "plt.title('conf in gov')\n",
    "plt.axvline(x=2017, color='black', ls='--')\n",
    "plt.show()"
   ]
  },
  {
   "cell_type": "markdown",
   "metadata": {},
   "source": [
    "USA: The 2008 financial crisis could explain the dip and then recovery of confidence in the government in the US during those years. Other than that, we see somewhat of a decrease in confidence in the US government over time.\n",
    "\n",
    "South Korea: The confidence in government in South Korea remains low over time.\n",
    "\n",
    "Hong Kong: Confidence in government steadily declines in Hong Kong, especially during Donald Tsang and Leung Chun-ying's administrations, which were both riddled with conflict. The number of scandals and lack of democracy in Hong Kong during this time could explain the decline in confidence in national government.\n",
    "\n",
    "__Now we look at how freedom to make life choices changes over time.__"
   ]
  },
  {
   "cell_type": "code",
   "execution_count": 64,
   "metadata": {
    "scrolled": false
   },
   "outputs": [
    {
     "data": {
      "image/png": "[encoded data removed]",
      "text/plain": [
       "<Figure size 432x288 with 1 Axes>"
      ]
     },
     "metadata": {
      "needs_background": "light"
     },
     "output_type": "display_data"
    }
   ],
   "source": [
    "free = threec.pivot_table(columns='name',index='Year',values='freedom_make_life_choices')\n",
    "free.columns = ['Hong_Kong','South_Korea','USA']\n",
    "free.Hong_Kong = conf.Hong_Kong.ffill()\n",
    "free.plot()\n",
    "plt.ylabel('freedom to make life choices')\n",
    "plt.xlabel('Year')\n",
    "plt.title('freedom')\n",
    "plt.axvline(x=2017, color='black', ls='--')\n",
    "plt.show()"
   ]
  },
  {
   "cell_type": "markdown",
   "metadata": {},
   "source": [
    "USA: People in the United States seem to feel generally free across the years.\n",
    "\n",
    "South Korea: There is a dip in perceived freedom in South Korea in 2008.\n",
    "\n",
    "Hong Kong: Starting 2008, the poeple of Hong Kong begin to feel less free. This could also be due to the vast corruption in the government during the time frame we are studying."
   ]
  },
  {
   "cell_type": "markdown",
   "metadata": {},
   "source": [
    "## Data Modeling ##"
   ]
  },
  {
   "cell_type": "markdown",
   "metadata": {},
   "source": [
    "### <span style=\"color:darkblue\">Linear Regression</span> ###\n",
    "\n"
   ]
  },
  {
   "cell_type": "markdown",
   "metadata": {},
   "source": [
    "In this section, we will build a linear regression model using the 2017 data to see which factors are the most important in predicting the Life Ladder (happiness score) of the countries. Then, using this model, we will try predicting the Life Ladder for the 2018 data."
   ]
  },
  {
   "cell_type": "code",
   "execution_count": null,
   "metadata": {},
   "outputs": [],
   "source": [
    "happy = pd.read_csv(\"https://raw.githubusercontent.com/uyc201/stats131finalproject/master/happy_2017_final.csv\")\n",
    "happy_test = pd.read_csv(\"https://raw.githubusercontent.com/uyc201/stats131finalproject/master/Chapter2OnlineData.csv\")"
   ]
  },
  {
   "cell_type": "code",
   "execution_count": null,
   "metadata": {},
   "outputs": [],
   "source": [
    "happy = happy.drop(['Unnamed: 0','Region'], axis=1)\n",
    "happy_test = happy_test[['Country name','Year','Life Ladder','Log GDP per capita','Social support','Healthy life expectancy at birth','Freedom to make life choices','Generosity','Perceptions of corruption','Positive affect','Negative affect','Confidence in national government','Democratic Quality','Delivery Quality']]\n",
    "happy_test = happy_test.loc[happy_test.Year == 2018]\n",
    "\n",
    "happy.set_index('Country name', inplace=True)\n",
    "happy_test.set_index('Country name', inplace=True)"
   ]
  },
  {
   "cell_type": "code",
   "execution_count": null,
   "metadata": {},
   "outputs": [],
   "source": [
    "# This will be our training data\n",
    "happy.head()"
   ]
  },
  {
   "cell_type": "code",
   "execution_count": null,
   "metadata": {},
   "outputs": [],
   "source": [
    "# This will be our testing data\n",
    "happy_test.head()"
   ]
  },
  {
   "cell_type": "code",
   "execution_count": null,
   "metadata": {},
   "outputs": [],
   "source": [
    "# We drop democratic quality and delivery quality because we realize there's too many missing values in happy_test\n",
    "training = happy.drop(['Year','Democratic Quality','Delivery Quality'], axis=1)\n",
    "testing = happy_test.drop(['Year','Democratic Quality','Delivery Quality'], axis=1).dropna()\n",
    "\n",
    "X_train = training.loc[:, training.columns != 'Life Ladder']\n",
    "y_train = training['Life Ladder']\n",
    "\n",
    "X_test = testing.loc[:, testing.columns != 'Life Ladder']\n",
    "y_test = testing['Life Ladder']"
   ]
  },
  {
   "cell_type": "code",
   "execution_count": null,
   "metadata": {},
   "outputs": [],
   "source": [
    "model = LinearRegression()\n",
    "model.fit(X_train, y_train)\n",
    "\n",
    "coefficients = pd.concat([pd.DataFrame(X_train.columns),pd.DataFrame(np.transpose(model.coef_))], axis=1)\n",
    "coefficients.columns = ['Variable','Coefficient']\n",
    "\n",
    "print(\"The intercept is: \",model.intercept_)\n",
    "print(\"------------------------------------------------------\")\n",
    "print(coefficients,\"\\n\")"
   ]
  },
  {
   "cell_type": "code",
   "execution_count": 20,
   "metadata": {},
   "outputs": [
    {
     "name": "stdout",
     "output_type": "stream",
     "text": [
      "                            OLS Regression Results                            \n",
      "==============================================================================\n",
      "Dep. Variable:                 Ladder   R-squared:                       0.771\n",
      "Model:                            OLS   Adj. R-squared:                  0.753\n",
      "Method:                 Least Squares   F-statistic:                     43.76\n",
      "Date:                Thu, 05 Dec 2019   Prob (F-statistic):           7.72e-37\n",
      "Time:                        12:05:13   Log-Likelihood:                -111.69\n",
      "No. Observations:                 141   AIC:                             245.4\n",
      "Df Residuals:                     130   BIC:                             277.8\n",
      "Df Model:                          10                                         \n",
      "Covariance Type:            nonrobust                                         \n",
      "=============================================================================================\n",
      "                                coef    std err          t      P>|t|      [0.025      0.975]\n",
      "---------------------------------------------------------------------------------------------\n",
      "Intercept                    -0.5986      1.094     -0.547      0.585      -2.764       1.566\n",
      "log_gdp_per_cap               0.2209      0.085      2.593      0.011       0.052       0.389\n",
      "Social_Support                2.4083      0.694      3.470      0.001       1.035       3.781\n",
      "life_exp                      0.0187      0.014      1.321      0.189      -0.009       0.047\n",
      "freedom_make_life_choices     1.8641      0.647      2.881      0.005       0.584       3.144\n",
      "Generosity                    0.5502      0.347      1.588      0.115      -0.135       1.236\n",
      "perceived_corruption         -1.0779      0.369     -2.920      0.004      -1.808      -0.348\n",
      "pos_aff                       1.1387      0.642      1.774      0.078      -0.131       2.409\n",
      "neg_aff                       0.3848      0.756      0.509      0.612      -1.111       1.880\n",
      "conf_in_gov                  -1.3714      0.379     -3.615      0.000      -2.122      -0.621\n",
      "dem_qual                      0.0596      0.079      0.753      0.453      -0.097       0.216\n",
      "==============================================================================\n",
      "Omnibus:                        2.709   Durbin-Watson:                   1.931\n",
      "Prob(Omnibus):                  0.258   Jarque-Bera (JB):                2.205\n",
      "Skew:                          -0.240   Prob(JB):                        0.332\n",
      "Kurtosis:                       3.381   Cond. No.                     1.73e+03\n",
      "==============================================================================\n",
      "\n",
      "Warnings:\n",
      "[1] Standard Errors assume that the covariance matrix of the errors is correctly specified.\n",
      "[2] The condition number is large, 1.73e+03. This might indicate that there are\n",
      "strong multicollinearity or other numerical problems.\n"
     ]
    }
   ],
   "source": [
    "happy_2017_final.rename(columns={'Country name':'country_name','Life Ladder':'Ladder','Log GDP per capita':'log_gdp_per_cap','Social support':'Social_Support','Healthy life expectancy at birth':'life_exp','Freedom to make life choices':'freedom_make_life_choices','Perceptions of corruption':'perceived_corruption','Positive affect':'pos_aff','Negative affect':'neg_aff','Confidence in national government':'conf_in_gov','Democratic Quality':'dem_qual'},inplace=True)\n",
    "model = smf.ols('Ladder ~ log_gdp_per_cap + Social_Support + life_exp + freedom_make_life_choices + Generosity + perceived_corruption + pos_aff + neg_aff + conf_in_gov + dem_qual', data = happy_2017_final).fit()\n",
    "print(model.summary())"
   ]
  },
  {
   "cell_type": "markdown",
   "metadata": {},
   "source": [
    "It seems like the variables __Social support__, __Freedom to make life choices__, and __Confidence in national government__ are the most important predictors, according to the coefficient values here.\n",
    "\n",
    "Below, we try using this linear regression model to make predictions on 2018 Life Ladder scores."
   ]
  },
  {
   "cell_type": "code",
   "execution_count": null,
   "metadata": {},
   "outputs": [],
   "source": [
    "predictions = model.predict(X_test)\n",
    "# Our R-squared\n",
    "print(\"R-Squared: \",model.score(X_test, y_test))\n",
    "\n",
    "# Our MSE\n",
    "mse = mean_squared_error(y_test,predictions)\n",
    "print(\"MSE: \",mse)"
   ]
  },
  {
   "cell_type": "markdown",
   "metadata": {},
   "source": [
    "We see that the R-Squared is around 0.748, which is not great but not too terrible either. It seems like our model is doing decently well in predicting the values."
   ]
  },
  {
   "cell_type": "markdown",
   "metadata": {},
   "source": [
    "### <span style=\"color:darkblue\">Top 20 Predicted vs. Actual</span> ###"
   ]
  },
  {
   "cell_type": "markdown",
   "metadata": {},
   "source": [
    "One of the main questions we had with our data was, \"Is there a cutoff on how much money/resources we need and being happy?\". In other words, after a certain point of having abundant money/resources, is there no difference in how 'happy' you can be?\n",
    "\n",
    "If yes, we would expect our predicted and actual top 20 happiest countries to be similar. If they are not, then it may suggest that there are other factors that haven't been considered yet that contributes to the Life Ladder score."
   ]
  },
  {
   "cell_type": "code",
   "execution_count": null,
   "metadata": {},
   "outputs": [],
   "source": [
    "testing['predicted'] = predictions\n",
    "testing.head()"
   ]
  },
  {
   "cell_type": "code",
   "execution_count": null,
   "metadata": {},
   "outputs": [],
   "source": [
    "# predicted Top 20 Countries\n",
    "predicted_top = testing.sort_values(by='predicted',ascending=False)\n",
    "predicted_top = predicted_top[0:20]\n",
    "\n",
    "# actual Top 20 Countries\n",
    "actual_top = testing.sort_values(by='Life Ladder',ascending=False)\n",
    "actual_top = actual_top[0:20]"
   ]
  },
  {
   "cell_type": "code",
   "execution_count": null,
   "metadata": {},
   "outputs": [],
   "source": [
    "print(\"-------------------------\")\n",
    "print(\"Predicted Top 20 Countries:\")\n",
    "print(predicted_top[['predicted','Life Ladder']])\n",
    "print(\"-------------------------\")"
   ]
  },
  {
   "cell_type": "code",
   "execution_count": null,
   "metadata": {
    "scrolled": true
   },
   "outputs": [],
   "source": [
    "print(\"-------------------------\")\n",
    "print(\"Actual Top 20 Countries:\")\n",
    "print(actual_top[['predicted','Life Ladder']])\n",
    "print(\"-------------------------\")"
   ]
  },
  {
   "cell_type": "code",
   "execution_count": null,
   "metadata": {},
   "outputs": [],
   "source": [
    "print(\"-------------------------\")\n",
    "print(\"Difference between the two:\")\n",
    "print(pd.concat([predicted_top, actual_top]).drop_duplicates(keep=False)['Life Ladder'])\n",
    "print(\"-------------------------\")"
   ]
  },
  {
   "cell_type": "markdown",
   "metadata": {},
   "source": [
    "In predicted but not in actual: Slovenia, Uruguay, Estonia, Panama\n",
    "\n",
    "In actual but not in predicted: Costa Rica, Czech Republic, Israel, Belgium\n",
    "\n",
    "It seems like we were off by 4 countries in our predicted top 20 countries (which is 20% of the data). Since we correctly identified the 16 of the top 20 countries, it seems like the factors we considered are important in Life Ladder (happiness) score. This suggests that after reaching a certain point of development/abundant resources, you can only go up so much."
   ]
  },
  {
   "cell_type": "markdown",
   "metadata": {},
   "source": [
    "### <span style=\"color:darkblue\">Bottom 20 Predicted vs. Actual</span> ###"
   ]
  },
  {
   "cell_type": "code",
   "execution_count": null,
   "metadata": {},
   "outputs": [],
   "source": [
    "# predicted Bottom 20 Countries\n",
    "predicted_bottom = testing.sort_values(by='predicted',ascending=True)\n",
    "predicted_bottom = predicted_bottom[:20]\n",
    "\n",
    "# actual Bottom 20 Countries\n",
    "actual_bottom = testing.sort_values(by='Life Ladder',ascending=True)\n",
    "actual_bottom = actual_bottom[:20]"
   ]
  },
  {
   "cell_type": "code",
   "execution_count": null,
   "metadata": {},
   "outputs": [],
   "source": [
    "print(\"-------------------------\")\n",
    "print(\"Predicted Bottom 20 Countries:\")\n",
    "print(predicted_bottom[['predicted','Life Ladder']])\n",
    "print(\"-------------------------\")"
   ]
  },
  {
   "cell_type": "code",
   "execution_count": null,
   "metadata": {},
   "outputs": [],
   "source": [
    "print(\"-------------------------\")\n",
    "print(\"Actual Bottom 20 Countries:\")\n",
    "print(actual_bottom[['predicted','Life Ladder']])\n",
    "print(\"-------------------------\")"
   ]
  },
  {
   "cell_type": "code",
   "execution_count": null,
   "metadata": {},
   "outputs": [],
   "source": [
    "print(\"-------------------------\")\n",
    "print(\"Difference between the two:\")\n",
    "print(pd.concat([predicted_bottom, actual_bottom]).drop_duplicates(keep=False)['Life Ladder'])\n",
    "print(\"-------------------------\")"
   ]
  },
  {
   "cell_type": "markdown",
   "metadata": {},
   "source": [
    "We see that unlike top 20 countries, we have a lot more misclassification of bottom 20 countries ranked by their Life Ladder score. This suggests that at the bottom...?"
   ]
  },
  {
   "cell_type": "code",
   "execution_count": null,
   "metadata": {},
   "outputs": [],
   "source": [
    "predicted_topp = predicted_top['predicted']\n",
    "predicted_topa = predicted_top['Life Ladder']\n",
    "\n",
    "actual_topp = actual_top['predicted']\n",
    "actual_topa = actual_top['Life Ladder']\n",
    "\n",
    "predicted_bottomp = predicted_bottom['predicted']\n",
    "predicted_bottoma = predicted_bottom['Life Ladder']\n",
    "\n",
    "actual_bottomp = actual_bottom['predicted']\n",
    "actual_bottoma = actual_bottom['Life Ladder']\n",
    "\n",
    "figure(num=None, figsize=(12, 12), dpi=80, facecolor='w', edgecolor='k')\n",
    "plt.subplots_adjust(left=None, bottom=None, right=None, top=None, wspace=0.7, hspace=0.7)\n",
    "\n",
    "N = 5\n",
    "ind = np.arange(N) \n",
    "width = 0.35  \n",
    "\n",
    "plt.subplot(2,2,1)\n",
    "plt.bar(ind, predicted_topp[0:5], width=width, label='Predicted')\n",
    "plt.bar(ind+width, predicted_topa[0:5], width=width, label='Actual')\n",
    "plt.title(\"Predicted Top 5 Countries\")\n",
    "plt.xticks([r + width for r in range(len(ind))],predicted_topp.index.values[0:5], rotation=45)\n",
    "plt.legend(loc='upper right', bbox_to_anchor = (1.4,1))\n",
    "\n",
    "plt.subplot(2,2,2)\n",
    "plt.bar(ind, actual_topp[0:5], width=width, label='Predicted')\n",
    "plt.bar(ind+width, actual_topa[0:5], width=width, label='Actual')\n",
    "plt.title(\"Actual Top 5 Countries\")\n",
    "plt.xticks([r + width for r in range(len(ind))],actual_topp.index.values[0:5], rotation=45)\n",
    "plt.legend(loc='upper right', bbox_to_anchor = (1.4,1))\n",
    "\n",
    "plt.subplot(2,2,3)\n",
    "plt.bar(ind, predicted_bottomp[0:5], width=width, label='Predicted')\n",
    "plt.bar(ind+width, predicted_bottoma[0:5], width=width, label='Actual')\n",
    "plt.title(\"Predicted Bottom 5 Countries\")\n",
    "plt.xticks([r + width for r in range(len(ind))],predicted_bottomp.index.values[0:5], rotation=45)\n",
    "plt.legend(loc='upper right', bbox_to_anchor = (1.4,1))\n",
    "\n",
    "plt.subplot(2,2,4)\n",
    "plt.bar(ind, actual_bottomp[0:5], width=width, label='Predicted')\n",
    "plt.bar(ind+width, actual_bottoma[0:5], width=width, label='Actual')\n",
    "plt.title(\"Actual Bottom 5 Countries\")\n",
    "plt.xticks([r + width for r in range(len(ind))],actual_bottomp.index.values[0:5], rotation=45)\n",
    "plt.legend(loc='upper right', bbox_to_anchor = (1.4,1))\n",
    "plt.show()"
   ]
  },
  {
   "cell_type": "markdown",
   "metadata": {},
   "source": [
    "## For Fun: Our Survey ##"
   ]
  },
  {
   "cell_type": "code",
   "execution_count": null,
   "metadata": {},
   "outputs": [],
   "source": [
    "our_survey = 'https://raw.githubusercontent.com/uyc201/stats131finalproject/master/Stats%20131%20Final%20Project%20Happiness%20Poll2.csv'\n",
    "survey = pd.read_csv(our_survey)\n",
    "survey.columns =  ['Timestamp','Username','Life Ladder','Social support','Freedom to make life choices','Generosity','Perceptions of corruption','Perceptions of corruption (business)','Happiness','Smile','Enjoyment','Worry','Sadness','Anger']\n",
    "survey = survey.replace('Yes',1)\n",
    "survey = survey.replace('No',0)\n",
    "survey = survey.replace('Satisfied',1)\n",
    "survey = survey.replace('Dissatisfied',0)\n",
    "\n",
    "survey_mean = np.mean(survey)\n",
    "survey_mean[\"Positive affect\"]=np.mean([survey_mean.Happiness,survey_mean.Smile,survey_mean.Enjoyment])\n",
    "survey_mean[\"Negative affect\"]=np.mean([survey_mean.Worry,survey_mean.Sadness,survey_mean.Anger])\n",
    "survey_mean=survey_mean[[\"Life Ladder\",\"Social support\",\"Freedom to make life choices\",\"Generosity\",\"Perceptions of corruption\",\"Positive affect\",\"Negative affect\"]]"
   ]
  },
  {
   "cell_type": "code",
   "execution_count": null,
   "metadata": {},
   "outputs": [],
   "source": [
    "US_2017=happy_2017[happy_2017[\"Country name\"]==\"United States\"]\n",
    "US_2017_survey=US_2017.reset_index()[[\"Life Ladder\",\"Social support\",\"Freedom to make life choices\",\"Generosity\",\"Perceptions of corruption\",\"Positive affect\",\"Negative affect\"]]"
   ]
  },
  {
   "cell_type": "code",
   "execution_count": null,
   "metadata": {},
   "outputs": [],
   "source": [
    "personal_and_US=pd.DataFrame(data={\"Data\":[\"Personal Data\",\"US 2017 Data\"],\n",
    "                                   \"Social support\":[1,0.921003],\"Freedom to make life choices\":[0.750000,0.868497],\n",
    "                                  \"Generosity\":[0.250000,0.188833],\"Perceptions of corruption\":[1,0.681191],\n",
    "                                  \"Positive affect\":[0.916667,0.826555],\"Negative affect\":[0.083333,0.268269]})\n",
    "melted=pd.melt(personal_and_US,id_vars = \"Data\")"
   ]
  },
  {
   "cell_type": "code",
   "execution_count": null,
   "metadata": {},
   "outputs": [],
   "source": [
    "survey_mean[\"Life Ladder\"]"
   ]
  },
  {
   "cell_type": "code",
   "execution_count": null,
   "metadata": {},
   "outputs": [],
   "source": [
    "print(US_2017_survey[\"Life Ladder\"])"
   ]
  },
  {
   "cell_type": "code",
   "execution_count": null,
   "metadata": {},
   "outputs": [],
   "source": [
    "sns.catplot(x=\"variable\",y=\"value\",hue=\"Data\",data=melted,kind='bar').set_xticklabels(rotation=90)\n",
    "plt.show()"
   ]
  },
  {
   "cell_type": "markdown",
   "metadata": {},
   "source": [
    "__Comparison__\n",
    "- _Life Ladder_: Our score is lower. It was pulled down by Stephen, who gave a 5 because he was sick the day that he took the survey.\n",
    "- _Social support_: Our score is higher than the US 2017 data. As college students, we are constantly surrounded by other students like us, so we have a higher chance of having someone to rely on than the average US adult. \n",
    "- _Freedom to make life choices_: Our score is lower. Since we've been students for the majority of our lives, we're more limited in what we think we can do than the average US adult not in college.  \n",
    "- _Generosity_: Our score is higher. Of the 4 of us, Rebecca indicated that she had donated money to charity in the past month, making our average 0.25.  \n",
    "- _Perceptions of corruption_: Our score is higher. As college students, we're more critical and cynical of the corruption we think is going on around us.  \n",
    "- _Positive affect_: Our score is higher. Since we're surrounded by our friends at school, we have more opportunities to experience positive feelings than the average US adult who doesn't get to see their friends as much.\n",
    "- _Negative affect_: Our score is lower. As college students, we probably have less things to stress about than the average US adult, and therefore experience negative feelings less."
   ]
  }
 ],
 "metadata": {
  "kernelspec": {
   "display_name": "Python 3",
   "language": "python",
   "name": "python3"
  },
  "language_info": {
   "codemirror_mode": {
    "name": "ipython",
    "version": 3
   },
   "file_extension": ".py",
   "mimetype": "text/x-python",
   "name": "python",
   "nbconvert_exporter": "python",
   "pygments_lexer": "ipython3",
   "version": "3.7.3"
  }
 },
 "nbformat": 4,
 "nbformat_minor": 2
}
